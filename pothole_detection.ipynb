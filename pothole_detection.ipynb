{
 "cells": [
  {
   "cell_type": "code",
   "execution_count": 1,
   "id": "7eb94d44-b9c3-41b1-bf69-c3f435f7bac9",
   "metadata": {},
   "outputs": [
    {
     "name": "stdout",
     "output_type": "stream",
     "text": [
      "Requirement already satisfied: ultralytics in c:\\users\\harshitha\\appdata\\local\\programs\\python\\python312\\lib\\site-packages (8.3.40)\n",
      "Requirement already satisfied: numpy>=1.23.0 in c:\\users\\harshitha\\appdata\\local\\programs\\python\\python312\\lib\\site-packages (from ultralytics) (1.26.4)\n",
      "Requirement already satisfied: matplotlib>=3.3.0 in c:\\users\\harshitha\\appdata\\local\\programs\\python\\python312\\lib\\site-packages (from ultralytics) (3.10.3)\n",
      "Requirement already satisfied: opencv-python>=4.6.0 in c:\\users\\harshitha\\appdata\\local\\programs\\python\\python312\\lib\\site-packages (from ultralytics) (4.7.0.72)\n",
      "Requirement already satisfied: pillow>=7.1.2 in c:\\users\\harshitha\\appdata\\local\\programs\\python\\python312\\lib\\site-packages (from ultralytics) (10.3.0)\n",
      "Requirement already satisfied: pyyaml>=5.3.1 in c:\\users\\harshitha\\appdata\\local\\programs\\python\\python312\\lib\\site-packages (from ultralytics) (6.0.2)\n",
      "Requirement already satisfied: requests>=2.23.0 in c:\\users\\harshitha\\appdata\\local\\programs\\python\\python312\\lib\\site-packages (from ultralytics) (2.31.0)\n",
      "Requirement already satisfied: scipy>=1.4.1 in c:\\users\\harshitha\\appdata\\local\\programs\\python\\python312\\lib\\site-packages (from ultralytics) (1.15.3)\n",
      "Requirement already satisfied: torch>=1.8.0 in c:\\users\\harshitha\\appdata\\local\\programs\\python\\python312\\lib\\site-packages (from ultralytics) (2.7.0)\n",
      "Requirement already satisfied: torchvision>=0.9.0 in c:\\users\\harshitha\\appdata\\local\\programs\\python\\python312\\lib\\site-packages (from ultralytics) (0.22.0)\n",
      "Requirement already satisfied: tqdm>=4.64.0 in c:\\users\\harshitha\\appdata\\local\\programs\\python\\python312\\lib\\site-packages (from ultralytics) (4.67.1)\n",
      "Requirement already satisfied: psutil in c:\\users\\harshitha\\appdata\\roaming\\python\\python312\\site-packages (from ultralytics) (6.1.1)\n",
      "Requirement already satisfied: py-cpuinfo in c:\\users\\harshitha\\appdata\\local\\programs\\python\\python312\\lib\\site-packages (from ultralytics) (9.0.0)\n",
      "Requirement already satisfied: pandas>=1.1.4 in c:\\users\\harshitha\\appdata\\local\\programs\\python\\python312\\lib\\site-packages (from ultralytics) (2.2.2)\n",
      "Requirement already satisfied: seaborn>=0.11.0 in c:\\users\\harshitha\\appdata\\local\\programs\\python\\python312\\lib\\site-packages (from ultralytics) (0.13.2)\n",
      "Requirement already satisfied: ultralytics-thop>=2.0.0 in c:\\users\\harshitha\\appdata\\local\\programs\\python\\python312\\lib\\site-packages (from ultralytics) (2.0.14)\n",
      "Requirement already satisfied: contourpy>=1.0.1 in c:\\users\\harshitha\\appdata\\local\\programs\\python\\python312\\lib\\site-packages (from matplotlib>=3.3.0->ultralytics) (1.3.2)\n",
      "Requirement already satisfied: cycler>=0.10 in c:\\users\\harshitha\\appdata\\local\\programs\\python\\python312\\lib\\site-packages (from matplotlib>=3.3.0->ultralytics) (0.12.1)\n",
      "Requirement already satisfied: fonttools>=4.22.0 in c:\\users\\harshitha\\appdata\\local\\programs\\python\\python312\\lib\\site-packages (from matplotlib>=3.3.0->ultralytics) (4.58.0)\n",
      "Requirement already satisfied: kiwisolver>=1.3.1 in c:\\users\\harshitha\\appdata\\local\\programs\\python\\python312\\lib\\site-packages (from matplotlib>=3.3.0->ultralytics) (1.4.8)\n",
      "Requirement already satisfied: packaging>=20.0 in c:\\users\\harshitha\\appdata\\roaming\\python\\python312\\site-packages (from matplotlib>=3.3.0->ultralytics) (24.2)\n",
      "Requirement already satisfied: pyparsing>=2.3.1 in c:\\users\\harshitha\\appdata\\local\\programs\\python\\python312\\lib\\site-packages (from matplotlib>=3.3.0->ultralytics) (3.2.3)\n",
      "Requirement already satisfied: python-dateutil>=2.7 in c:\\users\\harshitha\\appdata\\local\\programs\\python\\python312\\lib\\site-packages (from matplotlib>=3.3.0->ultralytics) (2.9.0.post0)\n",
      "Requirement already satisfied: pytz>=2020.1 in c:\\users\\harshitha\\appdata\\local\\programs\\python\\python312\\lib\\site-packages (from pandas>=1.1.4->ultralytics) (2024.1)\n",
      "Requirement already satisfied: tzdata>=2022.7 in c:\\users\\harshitha\\appdata\\local\\programs\\python\\python312\\lib\\site-packages (from pandas>=1.1.4->ultralytics) (2024.1)\n",
      "Requirement already satisfied: six>=1.5 in c:\\users\\harshitha\\appdata\\local\\programs\\python\\python312\\lib\\site-packages (from python-dateutil>=2.7->matplotlib>=3.3.0->ultralytics) (1.16.0)\n",
      "Requirement already satisfied: charset-normalizer<4,>=2 in c:\\users\\harshitha\\appdata\\local\\programs\\python\\python312\\lib\\site-packages (from requests>=2.23.0->ultralytics) (3.3.2)\n",
      "Requirement already satisfied: idna<4,>=2.5 in c:\\users\\harshitha\\appdata\\local\\programs\\python\\python312\\lib\\site-packages (from requests>=2.23.0->ultralytics) (3.7)\n",
      "Requirement already satisfied: urllib3<3,>=1.21.1 in c:\\users\\harshitha\\appdata\\local\\programs\\python\\python312\\lib\\site-packages (from requests>=2.23.0->ultralytics) (2.2.2)\n",
      "Requirement already satisfied: certifi>=2017.4.17 in c:\\users\\harshitha\\appdata\\local\\programs\\python\\python312\\lib\\site-packages (from requests>=2.23.0->ultralytics) (2024.7.4)\n",
      "Requirement already satisfied: filelock in c:\\users\\harshitha\\appdata\\local\\programs\\python\\python312\\lib\\site-packages (from torch>=1.8.0->ultralytics) (3.18.0)\n",
      "Requirement already satisfied: typing-extensions>=4.10.0 in c:\\users\\harshitha\\appdata\\local\\programs\\python\\python312\\lib\\site-packages (from torch>=1.8.0->ultralytics) (4.12.2)\n",
      "Requirement already satisfied: sympy>=1.13.3 in c:\\users\\harshitha\\appdata\\local\\programs\\python\\python312\\lib\\site-packages (from torch>=1.8.0->ultralytics) (1.14.0)\n",
      "Requirement already satisfied: networkx in c:\\users\\harshitha\\appdata\\local\\programs\\python\\python312\\lib\\site-packages (from torch>=1.8.0->ultralytics) (3.4.2)\n",
      "Requirement already satisfied: jinja2 in c:\\users\\harshitha\\appdata\\local\\programs\\python\\python312\\lib\\site-packages (from torch>=1.8.0->ultralytics) (3.1.4)\n",
      "Requirement already satisfied: fsspec in c:\\users\\harshitha\\appdata\\local\\programs\\python\\python312\\lib\\site-packages (from torch>=1.8.0->ultralytics) (2025.3.2)\n",
      "Requirement already satisfied: setuptools in c:\\users\\harshitha\\appdata\\local\\programs\\python\\python312\\lib\\site-packages (from torch>=1.8.0->ultralytics) (70.1.1)\n",
      "Requirement already satisfied: mpmath<1.4,>=1.1.0 in c:\\users\\harshitha\\appdata\\local\\programs\\python\\python312\\lib\\site-packages (from sympy>=1.13.3->torch>=1.8.0->ultralytics) (1.3.0)\n",
      "Requirement already satisfied: colorama in c:\\users\\harshitha\\appdata\\local\\programs\\python\\python312\\lib\\site-packages (from tqdm>=4.64.0->ultralytics) (0.4.6)\n",
      "Requirement already satisfied: MarkupSafe>=2.0 in c:\\users\\harshitha\\appdata\\local\\programs\\python\\python312\\lib\\site-packages (from jinja2->torch>=1.8.0->ultralytics) (2.1.5)\n",
      "Note: you may need to restart the kernel to use updated packages.\n"
     ]
    }
   ],
   "source": [
    "pip install ultralytics"
   ]
  },
  {
   "cell_type": "code",
   "execution_count": 3,
   "id": "adfd681b-2648-474b-b748-dd3a292802bc",
   "metadata": {},
   "outputs": [
    {
     "name": "stdout",
     "output_type": "stream",
     "text": [
      "Collecting roboflow\n",
      "  Downloading roboflow-1.1.64-py3-none-any.whl.metadata (9.7 kB)\n",
      "Requirement already satisfied: certifi in c:\\users\\harshitha\\appdata\\local\\programs\\python\\python312\\lib\\site-packages (from roboflow) (2024.7.4)\n",
      "Requirement already satisfied: idna==3.7 in c:\\users\\harshitha\\appdata\\local\\programs\\python\\python312\\lib\\site-packages (from roboflow) (3.7)\n",
      "Requirement already satisfied: cycler in c:\\users\\harshitha\\appdata\\local\\programs\\python\\python312\\lib\\site-packages (from roboflow) (0.12.1)\n",
      "Requirement already satisfied: kiwisolver>=1.3.1 in c:\\users\\harshitha\\appdata\\local\\programs\\python\\python312\\lib\\site-packages (from roboflow) (1.4.8)\n",
      "Requirement already satisfied: matplotlib in c:\\users\\harshitha\\appdata\\local\\programs\\python\\python312\\lib\\site-packages (from roboflow) (3.10.3)\n",
      "Requirement already satisfied: numpy>=1.18.5 in c:\\users\\harshitha\\appdata\\local\\programs\\python\\python312\\lib\\site-packages (from roboflow) (1.26.4)\n",
      "Collecting opencv-python-headless==4.10.0.84 (from roboflow)\n",
      "  Downloading opencv_python_headless-4.10.0.84-cp37-abi3-win_amd64.whl.metadata (20 kB)\n",
      "Requirement already satisfied: Pillow>=7.1.2 in c:\\users\\harshitha\\appdata\\local\\programs\\python\\python312\\lib\\site-packages (from roboflow) (10.3.0)\n",
      "Collecting pillow-heif>=0.18.0 (from roboflow)\n",
      "  Downloading pillow_heif-0.22.0-cp312-cp312-win_amd64.whl.metadata (9.8 kB)\n",
      "Requirement already satisfied: python-dateutil in c:\\users\\harshitha\\appdata\\local\\programs\\python\\python312\\lib\\site-packages (from roboflow) (2.9.0.post0)\n",
      "Requirement already satisfied: python-dotenv in c:\\users\\harshitha\\appdata\\local\\programs\\python\\python312\\lib\\site-packages (from roboflow) (1.0.1)\n",
      "Requirement already satisfied: requests in c:\\users\\harshitha\\appdata\\local\\programs\\python\\python312\\lib\\site-packages (from roboflow) (2.31.0)\n",
      "Requirement already satisfied: six in c:\\users\\harshitha\\appdata\\local\\programs\\python\\python312\\lib\\site-packages (from roboflow) (1.16.0)\n",
      "Requirement already satisfied: urllib3>=1.26.6 in c:\\users\\harshitha\\appdata\\local\\programs\\python\\python312\\lib\\site-packages (from roboflow) (2.2.2)\n",
      "Requirement already satisfied: tqdm>=4.41.0 in c:\\users\\harshitha\\appdata\\local\\programs\\python\\python312\\lib\\site-packages (from roboflow) (4.67.1)\n",
      "Requirement already satisfied: PyYAML>=5.3.1 in c:\\users\\harshitha\\appdata\\local\\programs\\python\\python312\\lib\\site-packages (from roboflow) (6.0.2)\n",
      "Collecting requests-toolbelt (from roboflow)\n",
      "  Downloading requests_toolbelt-1.0.0-py2.py3-none-any.whl.metadata (14 kB)\n",
      "Collecting filetype (from roboflow)\n",
      "  Downloading filetype-1.2.0-py2.py3-none-any.whl.metadata (6.5 kB)\n",
      "Requirement already satisfied: colorama in c:\\users\\harshitha\\appdata\\local\\programs\\python\\python312\\lib\\site-packages (from tqdm>=4.41.0->roboflow) (0.4.6)\n",
      "Requirement already satisfied: contourpy>=1.0.1 in c:\\users\\harshitha\\appdata\\local\\programs\\python\\python312\\lib\\site-packages (from matplotlib->roboflow) (1.3.2)\n",
      "Requirement already satisfied: fonttools>=4.22.0 in c:\\users\\harshitha\\appdata\\local\\programs\\python\\python312\\lib\\site-packages (from matplotlib->roboflow) (4.58.0)\n",
      "Requirement already satisfied: packaging>=20.0 in c:\\users\\harshitha\\appdata\\roaming\\python\\python312\\site-packages (from matplotlib->roboflow) (24.2)\n",
      "Requirement already satisfied: pyparsing>=2.3.1 in c:\\users\\harshitha\\appdata\\local\\programs\\python\\python312\\lib\\site-packages (from matplotlib->roboflow) (3.2.3)\n",
      "Requirement already satisfied: charset-normalizer<4,>=2 in c:\\users\\harshitha\\appdata\\local\\programs\\python\\python312\\lib\\site-packages (from requests->roboflow) (3.3.2)\n",
      "Downloading roboflow-1.1.64-py3-none-any.whl (85 kB)\n",
      "Downloading opencv_python_headless-4.10.0.84-cp37-abi3-win_amd64.whl (38.8 MB)\n",
      "   ---------------------------------------- 0.0/38.8 MB ? eta -:--:--\n",
      "    --------------------------------------- 0.8/38.8 MB 6.7 MB/s eta 0:00:06\n",
      "   -- ------------------------------------- 2.6/38.8 MB 7.9 MB/s eta 0:00:05\n",
      "   ---- ----------------------------------- 3.9/38.8 MB 8.1 MB/s eta 0:00:05\n",
      "   ---- ----------------------------------- 4.5/38.8 MB 5.7 MB/s eta 0:00:07\n",
      "   ----- ---------------------------------- 5.2/38.8 MB 5.1 MB/s eta 0:00:07\n",
      "   ------- -------------------------------- 6.8/38.8 MB 5.6 MB/s eta 0:00:06\n",
      "   -------- ------------------------------- 8.7/38.8 MB 6.1 MB/s eta 0:00:05\n",
      "   ---------- ----------------------------- 10.5/38.8 MB 6.4 MB/s eta 0:00:05\n",
      "   ------------ --------------------------- 12.3/38.8 MB 6.6 MB/s eta 0:00:05\n",
      "   -------------- ------------------------- 14.2/38.8 MB 6.8 MB/s eta 0:00:04\n",
      "   ---------------- ----------------------- 16.0/38.8 MB 6.9 MB/s eta 0:00:04\n",
      "   ------------------ --------------------- 17.6/38.8 MB 7.1 MB/s eta 0:00:04\n",
      "   -------------------- ------------------- 19.4/38.8 MB 7.1 MB/s eta 0:00:03\n",
      "   --------------------- ------------------ 21.2/38.8 MB 7.2 MB/s eta 0:00:03\n",
      "   ----------------------- ---------------- 22.8/38.8 MB 7.3 MB/s eta 0:00:03\n",
      "   ------------------------- -------------- 24.6/38.8 MB 7.4 MB/s eta 0:00:02\n",
      "   --------------------------- ------------ 26.5/38.8 MB 7.4 MB/s eta 0:00:02\n",
      "   ---------------------------- ----------- 28.0/38.8 MB 7.4 MB/s eta 0:00:02\n",
      "   ------------------------------ --------- 29.9/38.8 MB 7.5 MB/s eta 0:00:02\n",
      "   -------------------------------- ------- 31.7/38.8 MB 7.5 MB/s eta 0:00:01\n",
      "   ---------------------------------- ----- 33.6/38.8 MB 7.6 MB/s eta 0:00:01\n",
      "   ------------------------------------ --- 35.4/38.8 MB 7.6 MB/s eta 0:00:01\n",
      "   -------------------------------------- - 37.0/38.8 MB 7.6 MB/s eta 0:00:01\n",
      "   ---------------------------------------  38.5/38.8 MB 7.7 MB/s eta 0:00:01\n",
      "   ---------------------------------------- 38.8/38.8 MB 7.5 MB/s eta 0:00:00\n",
      "Downloading pillow_heif-0.22.0-cp312-cp312-win_amd64.whl (8.6 MB)\n",
      "   ---------------------------------------- 0.0/8.6 MB ? eta -:--:--\n",
      "   -------- ------------------------------- 1.8/8.6 MB 9.1 MB/s eta 0:00:01\n",
      "   ----------------- ---------------------- 3.7/8.6 MB 8.4 MB/s eta 0:00:01\n",
      "   ------------------------ --------------- 5.2/8.6 MB 8.4 MB/s eta 0:00:01\n",
      "   --------------------------------- ------ 7.1/8.6 MB 8.4 MB/s eta 0:00:01\n",
      "   ---------------------------------------- 8.6/8.6 MB 7.9 MB/s eta 0:00:00\n",
      "Downloading filetype-1.2.0-py2.py3-none-any.whl (19 kB)\n",
      "Downloading requests_toolbelt-1.0.0-py2.py3-none-any.whl (54 kB)\n",
      "Installing collected packages: filetype, pillow-heif, opencv-python-headless, requests-toolbelt, roboflow\n",
      "\n",
      "   ---------------------------------------- 0/5 [filetype]\n",
      "   ---------------------------------------- 0/5 [filetype]\n",
      "   ---------------------------------------- 0/5 [filetype]\n",
      "   ---------------------------------------- 0/5 [filetype]\n",
      "   -------- ------------------------------- 1/5 [pillow-heif]\n",
      "   -------- ------------------------------- 1/5 [pillow-heif]\n",
      "   -------- ------------------------------- 1/5 [pillow-heif]\n",
      "   -------- ------------------------------- 1/5 [pillow-heif]\n",
      "   -------- ------------------------------- 1/5 [pillow-heif]\n",
      "   -------- ------------------------------- 1/5 [pillow-heif]\n",
      "  Attempting uninstall: opencv-python-headless\n",
      "   -------- ------------------------------- 1/5 [pillow-heif]\n",
      "    Found existing installation: opencv-python-headless 4.11.0.86\n",
      "   -------- ------------------------------- 1/5 [pillow-heif]\n",
      "   ---------------- ----------------------- 2/5 [opencv-python-headless]\n",
      "    Uninstalling opencv-python-headless-4.11.0.86:\n",
      "   ---------------- ----------------------- 2/5 [opencv-python-headless]\n",
      "   ---------------- ----------------------- 2/5 [opencv-python-headless]\n",
      "      Successfully uninstalled opencv-python-headless-4.11.0.86\n",
      "   ---------------- ----------------------- 2/5 [opencv-python-headless]\n",
      "   ---------------- ----------------------- 2/5 [opencv-python-headless]\n",
      "   ---------------- ----------------------- 2/5 [opencv-python-headless]\n",
      "   ---------------- ----------------------- 2/5 [opencv-python-headless]\n",
      "   ---------------- ----------------------- 2/5 [opencv-python-headless]\n",
      "   ---------------- ----------------------- 2/5 [opencv-python-headless]\n",
      "   ---------------- ----------------------- 2/5 [opencv-python-headless]\n",
      "   ---------------- ----------------------- 2/5 [opencv-python-headless]\n",
      "   ---------------- ----------------------- 2/5 [opencv-python-headless]\n",
      "   ---------------- ----------------------- 2/5 [opencv-python-headless]\n",
      "   ---------------- ----------------------- 2/5 [opencv-python-headless]\n",
      "   ---------------- ----------------------- 2/5 [opencv-python-headless]\n",
      "   ---------------- ----------------------- 2/5 [opencv-python-headless]\n",
      "   ---------------- ----------------------- 2/5 [opencv-python-headless]\n",
      "   ---------------- ----------------------- 2/5 [opencv-python-headless]\n",
      "   ---------------- ----------------------- 2/5 [opencv-python-headless]\n",
      "   ---------------- ----------------------- 2/5 [opencv-python-headless]\n",
      "   ---------------- ----------------------- 2/5 [opencv-python-headless]\n",
      "   ---------------- ----------------------- 2/5 [opencv-python-headless]\n",
      "   ---------------- ----------------------- 2/5 [opencv-python-headless]\n",
      "   ---------------- ----------------------- 2/5 [opencv-python-headless]\n",
      "   ---------------- ----------------------- 2/5 [opencv-python-headless]\n",
      "   ---------------- ----------------------- 2/5 [opencv-python-headless]\n",
      "   ---------------- ----------------------- 2/5 [opencv-python-headless]\n",
      "   ---------------- ----------------------- 2/5 [opencv-python-headless]\n",
      "   ---------------- ----------------------- 2/5 [opencv-python-headless]\n",
      "   ---------------- ----------------------- 2/5 [opencv-python-headless]\n",
      "   ---------------- ----------------------- 2/5 [opencv-python-headless]\n",
      "   ---------------- ----------------------- 2/5 [opencv-python-headless]\n",
      "   ---------------- ----------------------- 2/5 [opencv-python-headless]\n",
      "   ---------------- ----------------------- 2/5 [opencv-python-headless]\n",
      "   ---------------- ----------------------- 2/5 [opencv-python-headless]\n",
      "   ---------------- ----------------------- 2/5 [opencv-python-headless]\n",
      "   ---------------- ----------------------- 2/5 [opencv-python-headless]\n",
      "   ------------------------ --------------- 3/5 [requests-toolbelt]\n",
      "   ------------------------ --------------- 3/5 [requests-toolbelt]\n",
      "   ------------------------ --------------- 3/5 [requests-toolbelt]\n",
      "   ------------------------ --------------- 3/5 [requests-toolbelt]\n",
      "   ------------------------ --------------- 3/5 [requests-toolbelt]\n",
      "   ------------------------ --------------- 3/5 [requests-toolbelt]\n",
      "   ------------------------ --------------- 3/5 [requests-toolbelt]\n",
      "   -------------------------------- ------- 4/5 [roboflow]\n",
      "   -------------------------------- ------- 4/5 [roboflow]\n",
      "   -------------------------------- ------- 4/5 [roboflow]\n",
      "   -------------------------------- ------- 4/5 [roboflow]\n",
      "   -------------------------------- ------- 4/5 [roboflow]\n",
      "   -------------------------------- ------- 4/5 [roboflow]\n",
      "   -------------------------------- ------- 4/5 [roboflow]\n",
      "   -------------------------------- ------- 4/5 [roboflow]\n",
      "   -------------------------------- ------- 4/5 [roboflow]\n",
      "   -------------------------------- ------- 4/5 [roboflow]\n",
      "   ---------------------------------------- 5/5 [roboflow]\n",
      "\n",
      "Successfully installed filetype-1.2.0 opencv-python-headless-4.10.0.84 pillow-heif-0.22.0 requests-toolbelt-1.0.0 roboflow-1.1.64\n"
     ]
    },
    {
     "name": "stderr",
     "output_type": "stream",
     "text": [
      "  WARNING: Failed to remove contents in a temporary directory 'C:\\Users\\harshitha\\AppData\\Local\\Temp\\pip-uninstall-9hmxmxkp'.\n",
      "  You can safely remove it manually.\n"
     ]
    }
   ],
   "source": [
    "!pip install roboflow"
   ]
  },
  {
   "cell_type": "code",
   "execution_count": 2,
   "id": "ffe2558e-d815-4818-b2de-5eef2a60ef17",
   "metadata": {},
   "outputs": [],
   "source": [
    "from ultralytics import YOLO\n",
    "from IPython.display import display, Image"
   ]
  },
  {
   "cell_type": "code",
   "execution_count": 7,
   "id": "56d4d875-b9d1-4188-b6f8-152ef011a34b",
   "metadata": {},
   "outputs": [
    {
     "name": "stdout",
     "output_type": "stream",
     "text": [
      "Downloading https://github.com/ultralytics/assets/releases/download/v8.3.0/yolov8n.pt to 'yolov8n.pt'...\n"
     ]
    },
    {
     "name": "stderr",
     "output_type": "stream",
     "text": [
      "100%|█████████████████████████████████████████████████████████████████████████████| 6.25M/6.25M [00:01<00:00, 4.59MB/s]\n"
     ]
    },
    {
     "name": "stdout",
     "output_type": "stream",
     "text": [
      "Ultralytics 8.3.40  Python-3.12.4 torch-2.7.0+cpu CPU (11th Gen Intel Core(TM) i5-1135G7 2.40GHz)\n",
      "\u001b[34m\u001b[1mengine\\trainer: \u001b[0mtask=detect, mode=train, model=yolov8n.pt, data=C:\\Users\\harshitha\\Downloads\\pothole_dataset\\data.yaml, epochs=50, time=None, patience=100, batch=16, imgsz=640, save=True, save_period=-1, cache=False, device=None, workers=8, project=None, name=train2, exist_ok=False, pretrained=True, optimizer=auto, verbose=True, seed=0, deterministic=True, single_cls=False, rect=False, cos_lr=False, close_mosaic=10, resume=False, amp=True, fraction=1.0, profile=False, freeze=None, multi_scale=False, overlap_mask=True, mask_ratio=4, dropout=0.0, val=True, split=val, save_json=False, save_hybrid=False, conf=None, iou=0.7, max_det=300, half=False, dnn=False, plots=True, source=None, vid_stride=1, stream_buffer=False, visualize=False, augment=False, agnostic_nms=False, classes=None, retina_masks=False, embed=None, show=False, save_frames=False, save_txt=False, save_conf=False, save_crop=False, show_labels=True, show_conf=True, show_boxes=True, line_width=None, format=torchscript, keras=False, optimize=False, int8=False, dynamic=False, simplify=True, opset=None, workspace=None, nms=False, lr0=0.01, lrf=0.01, momentum=0.937, weight_decay=0.0005, warmup_epochs=3.0, warmup_momentum=0.8, warmup_bias_lr=0.1, box=7.5, cls=0.5, dfl=1.5, pose=12.0, kobj=1.0, nbs=64, hsv_h=0.015, hsv_s=0.7, hsv_v=0.4, degrees=0.0, translate=0.1, scale=0.5, shear=0.0, perspective=0.0, flipud=0.0, fliplr=0.5, bgr=0.0, mosaic=1.0, mixup=0.0, copy_paste=0.0, copy_paste_mode=flip, auto_augment=randaugment, erasing=0.4, crop_fraction=1.0, cfg=None, tracker=botsort.yaml, save_dir=runs\\detect\\train2\n",
      "Downloading https://ultralytics.com/assets/Arial.ttf to 'C:\\Users\\harshitha\\AppData\\Roaming\\Ultralytics\\Arial.ttf'...\n"
     ]
    },
    {
     "name": "stderr",
     "output_type": "stream",
     "text": [
      "100%|███████████████████████████████████████████████████████████████████████████████| 755k/755k [00:00<00:00, 3.37MB/s]\n"
     ]
    },
    {
     "name": "stdout",
     "output_type": "stream",
     "text": [
      "Overriding model.yaml nc=80 with nc=1\n",
      "\n",
      "                   from  n    params  module                                       arguments                     \n",
      "  0                  -1  1       464  ultralytics.nn.modules.conv.Conv             [3, 16, 3, 2]                 \n",
      "  1                  -1  1      4672  ultralytics.nn.modules.conv.Conv             [16, 32, 3, 2]                \n",
      "  2                  -1  1      7360  ultralytics.nn.modules.block.C2f             [32, 32, 1, True]             \n",
      "  3                  -1  1     18560  ultralytics.nn.modules.conv.Conv             [32, 64, 3, 2]                \n",
      "  4                  -1  2     49664  ultralytics.nn.modules.block.C2f             [64, 64, 2, True]             \n",
      "  5                  -1  1     73984  ultralytics.nn.modules.conv.Conv             [64, 128, 3, 2]               \n",
      "  6                  -1  2    197632  ultralytics.nn.modules.block.C2f             [128, 128, 2, True]           \n",
      "  7                  -1  1    295424  ultralytics.nn.modules.conv.Conv             [128, 256, 3, 2]              \n",
      "  8                  -1  1    460288  ultralytics.nn.modules.block.C2f             [256, 256, 1, True]           \n",
      "  9                  -1  1    164608  ultralytics.nn.modules.block.SPPF            [256, 256, 5]                 \n",
      " 10                  -1  1         0  torch.nn.modules.upsampling.Upsample         [None, 2, 'nearest']          \n",
      " 11             [-1, 6]  1         0  ultralytics.nn.modules.conv.Concat           [1]                           \n",
      " 12                  -1  1    148224  ultralytics.nn.modules.block.C2f             [384, 128, 1]                 \n",
      " 13                  -1  1         0  torch.nn.modules.upsampling.Upsample         [None, 2, 'nearest']          \n",
      " 14             [-1, 4]  1         0  ultralytics.nn.modules.conv.Concat           [1]                           \n",
      " 15                  -1  1     37248  ultralytics.nn.modules.block.C2f             [192, 64, 1]                  \n",
      " 16                  -1  1     36992  ultralytics.nn.modules.conv.Conv             [64, 64, 3, 2]                \n",
      " 17            [-1, 12]  1         0  ultralytics.nn.modules.conv.Concat           [1]                           \n",
      " 18                  -1  1    123648  ultralytics.nn.modules.block.C2f             [192, 128, 1]                 \n",
      " 19                  -1  1    147712  ultralytics.nn.modules.conv.Conv             [128, 128, 3, 2]              \n",
      " 20             [-1, 9]  1         0  ultralytics.nn.modules.conv.Concat           [1]                           \n",
      " 21                  -1  1    493056  ultralytics.nn.modules.block.C2f             [384, 256, 1]                 \n",
      " 22        [15, 18, 21]  1    751507  ultralytics.nn.modules.head.Detect           [1, [64, 128, 256]]           \n",
      "Model summary: 225 layers, 3,011,043 parameters, 3,011,027 gradients, 8.2 GFLOPs\n",
      "\n",
      "Transferred 319/355 items from pretrained weights\n",
      "\u001b[34m\u001b[1mTensorBoard: \u001b[0mStart with 'tensorboard --logdir runs\\detect\\train2', view at http://localhost:6006/\n",
      "Freezing layer 'model.22.dfl.conv.weight'\n"
     ]
    },
    {
     "name": "stderr",
     "output_type": "stream",
     "text": [
      "\u001b[34m\u001b[1mtrain: \u001b[0mScanning C:\\Users\\harshitha\\Downloads\\pothole_dataset\\train\\labels... 465 images, 0 backgrounds, 0 corrupt: 100%\u001b[0m\n"
     ]
    },
    {
     "name": "stdout",
     "output_type": "stream",
     "text": [
      "\u001b[34m\u001b[1mtrain: \u001b[0mNew cache created: C:\\Users\\harshitha\\Downloads\\pothole_dataset\\train\\labels.cache\n"
     ]
    },
    {
     "name": "stderr",
     "output_type": "stream",
     "text": [
      "'pin_memory' argument is set as true but no accelerator is found, then device pinned memory won't be used.\n",
      "\u001b[34m\u001b[1mval: \u001b[0mScanning C:\\Users\\harshitha\\Downloads\\pothole_dataset\\valid\\labels... 133 images, 0 backgrounds, 0 corrupt: 100%|█\u001b[0m"
     ]
    },
    {
     "name": "stdout",
     "output_type": "stream",
     "text": [
      "\u001b[34m\u001b[1mval: \u001b[0mNew cache created: C:\\Users\\harshitha\\Downloads\\pothole_dataset\\valid\\labels.cache\n"
     ]
    },
    {
     "name": "stderr",
     "output_type": "stream",
     "text": [
      "\n"
     ]
    },
    {
     "name": "stdout",
     "output_type": "stream",
     "text": [
      "Plotting labels to runs\\detect\\train2\\labels.jpg... \n",
      "\u001b[34m\u001b[1moptimizer:\u001b[0m 'optimizer=auto' found, ignoring 'lr0=0.01' and 'momentum=0.937' and determining best 'optimizer', 'lr0' and 'momentum' automatically... \n",
      "\u001b[34m\u001b[1moptimizer:\u001b[0m AdamW(lr=0.002, momentum=0.9) with parameter groups 57 weight(decay=0.0), 64 weight(decay=0.0005), 63 bias(decay=0.0)\n",
      "\u001b[34m\u001b[1mTensorBoard: \u001b[0mmodel graph visualization added \n",
      "Image sizes 640 train, 640 val\n",
      "Using 0 dataloader workers\n",
      "Logging results to \u001b[1mruns\\detect\\train2\u001b[0m\n",
      "Starting training for 50 epochs...\n",
      "\n",
      "      Epoch    GPU_mem   box_loss   cls_loss   dfl_loss  Instances       Size\n"
     ]
    },
    {
     "name": "stderr",
     "output_type": "stream",
     "text": [
      "       1/50         0G      1.655      2.584      1.533          5        640: 100%|██████████| 30/30 [12:22<00:00, 24.\n",
      "                 Class     Images  Instances      Box(P          R      mAP50  mAP50-95): 100%|██████████| 5/5 [00:29<0"
     ]
    },
    {
     "name": "stdout",
     "output_type": "stream",
     "text": [
      "                   all        133        330      0.883     0.0459      0.279      0.144\n"
     ]
    },
    {
     "name": "stderr",
     "output_type": "stream",
     "text": [
      "\n"
     ]
    },
    {
     "name": "stdout",
     "output_type": "stream",
     "text": [
      "\n",
      "      Epoch    GPU_mem   box_loss   cls_loss   dfl_loss  Instances       Size\n"
     ]
    },
    {
     "name": "stderr",
     "output_type": "stream",
     "text": [
      "       2/50         0G      1.512      1.921      1.413          8        640: 100%|██████████| 30/30 [21:47<00:00, 43.\n",
      "                 Class     Images  Instances      Box(P          R      mAP50  mAP50-95): 100%|██████████| 5/5 [00:27<0"
     ]
    },
    {
     "name": "stdout",
     "output_type": "stream",
     "text": [
      "                   all        133        330      0.463      0.306      0.301      0.155\n"
     ]
    },
    {
     "name": "stderr",
     "output_type": "stream",
     "text": [
      "\n"
     ]
    },
    {
     "name": "stdout",
     "output_type": "stream",
     "text": [
      "\n",
      "      Epoch    GPU_mem   box_loss   cls_loss   dfl_loss  Instances       Size\n"
     ]
    },
    {
     "name": "stderr",
     "output_type": "stream",
     "text": [
      "       3/50         0G      1.593      1.916      1.475          2        640: 100%|██████████| 30/30 [47:11<00:00, 94.\n",
      "                 Class     Images  Instances      Box(P          R      mAP50  mAP50-95): 100%|██████████| 5/5 [00:33<0"
     ]
    },
    {
     "name": "stdout",
     "output_type": "stream",
     "text": [
      "                   all        133        330      0.512      0.418      0.412      0.205\n"
     ]
    },
    {
     "name": "stderr",
     "output_type": "stream",
     "text": [
      "\n"
     ]
    },
    {
     "name": "stdout",
     "output_type": "stream",
     "text": [
      "\n",
      "      Epoch    GPU_mem   box_loss   cls_loss   dfl_loss  Instances       Size\n"
     ]
    },
    {
     "name": "stderr",
     "output_type": "stream",
     "text": [
      "       4/50         0G      1.646      1.902      1.485          5        640: 100%|██████████| 30/30 [04:20<00:00,  8.\n",
      "                 Class     Images  Instances      Box(P          R      mAP50  mAP50-95): 100%|██████████| 5/5 [00:19<0"
     ]
    },
    {
     "name": "stdout",
     "output_type": "stream",
     "text": [
      "                   all        133        330      0.557      0.339      0.381      0.171\n"
     ]
    },
    {
     "name": "stderr",
     "output_type": "stream",
     "text": [
      "\n"
     ]
    },
    {
     "name": "stdout",
     "output_type": "stream",
     "text": [
      "\n",
      "      Epoch    GPU_mem   box_loss   cls_loss   dfl_loss  Instances       Size\n"
     ]
    },
    {
     "name": "stderr",
     "output_type": "stream",
     "text": [
      "       5/50         0G      1.597      1.723      1.466          3        640: 100%|██████████| 30/30 [03:06<00:00,  6.\n",
      "                 Class     Images  Instances      Box(P          R      mAP50  mAP50-95): 100%|██████████| 5/5 [00:20<0"
     ]
    },
    {
     "name": "stdout",
     "output_type": "stream",
     "text": [
      "                   all        133        330      0.509      0.455      0.473      0.247\n"
     ]
    },
    {
     "name": "stderr",
     "output_type": "stream",
     "text": [
      "\n"
     ]
    },
    {
     "name": "stdout",
     "output_type": "stream",
     "text": [
      "\n",
      "      Epoch    GPU_mem   box_loss   cls_loss   dfl_loss  Instances       Size\n"
     ]
    },
    {
     "name": "stderr",
     "output_type": "stream",
     "text": [
      "       6/50         0G      1.533      1.627      1.429          4        640: 100%|██████████| 30/30 [03:57<00:00,  7.\n",
      "                 Class     Images  Instances      Box(P          R      mAP50  mAP50-95): 100%|██████████| 5/5 [00:16<0"
     ]
    },
    {
     "name": "stdout",
     "output_type": "stream",
     "text": [
      "                   all        133        330      0.545      0.512      0.514      0.248\n"
     ]
    },
    {
     "name": "stderr",
     "output_type": "stream",
     "text": [
      "\n"
     ]
    },
    {
     "name": "stdout",
     "output_type": "stream",
     "text": [
      "\n",
      "      Epoch    GPU_mem   box_loss   cls_loss   dfl_loss  Instances       Size\n"
     ]
    },
    {
     "name": "stderr",
     "output_type": "stream",
     "text": [
      "       7/50         0G      1.488      1.607      1.414          5        640: 100%|██████████| 30/30 [02:54<00:00,  5.\n",
      "                 Class     Images  Instances      Box(P          R      mAP50  mAP50-95): 100%|██████████| 5/5 [00:16<0"
     ]
    },
    {
     "name": "stdout",
     "output_type": "stream",
     "text": [
      "                   all        133        330      0.511      0.461      0.471       0.24\n"
     ]
    },
    {
     "name": "stderr",
     "output_type": "stream",
     "text": [
      "\n"
     ]
    },
    {
     "name": "stdout",
     "output_type": "stream",
     "text": [
      "\n",
      "      Epoch    GPU_mem   box_loss   cls_loss   dfl_loss  Instances       Size\n"
     ]
    },
    {
     "name": "stderr",
     "output_type": "stream",
     "text": [
      "       8/50         0G      1.537      1.556      1.415          9        640: 100%|██████████| 30/30 [03:04<00:00,  6.\n",
      "                 Class     Images  Instances      Box(P          R      mAP50  mAP50-95): 100%|██████████| 5/5 [00:16<0"
     ]
    },
    {
     "name": "stdout",
     "output_type": "stream",
     "text": [
      "                   all        133        330      0.562      0.541      0.547      0.274\n"
     ]
    },
    {
     "name": "stderr",
     "output_type": "stream",
     "text": [
      "\n"
     ]
    },
    {
     "name": "stdout",
     "output_type": "stream",
     "text": [
      "\n",
      "      Epoch    GPU_mem   box_loss   cls_loss   dfl_loss  Instances       Size\n"
     ]
    },
    {
     "name": "stderr",
     "output_type": "stream",
     "text": [
      "       9/50         0G      1.479       1.48      1.406          2        640: 100%|██████████| 30/30 [03:01<00:00,  6.\n",
      "                 Class     Images  Instances      Box(P          R      mAP50  mAP50-95): 100%|██████████| 5/5 [00:16<0"
     ]
    },
    {
     "name": "stdout",
     "output_type": "stream",
     "text": [
      "                   all        133        330      0.612      0.554      0.574      0.301\n"
     ]
    },
    {
     "name": "stderr",
     "output_type": "stream",
     "text": [
      "\n"
     ]
    },
    {
     "name": "stdout",
     "output_type": "stream",
     "text": [
      "\n",
      "      Epoch    GPU_mem   box_loss   cls_loss   dfl_loss  Instances       Size\n"
     ]
    },
    {
     "name": "stderr",
     "output_type": "stream",
     "text": [
      "      10/50         0G      1.453      1.455       1.38          5        640: 100%|██████████| 30/30 [03:00<00:00,  6.\n",
      "                 Class     Images  Instances      Box(P          R      mAP50  mAP50-95): 100%|██████████| 5/5 [00:15<0"
     ]
    },
    {
     "name": "stdout",
     "output_type": "stream",
     "text": [
      "                   all        133        330      0.653      0.439      0.515      0.278\n"
     ]
    },
    {
     "name": "stderr",
     "output_type": "stream",
     "text": [
      "\n"
     ]
    },
    {
     "name": "stdout",
     "output_type": "stream",
     "text": [
      "\n",
      "      Epoch    GPU_mem   box_loss   cls_loss   dfl_loss  Instances       Size\n"
     ]
    },
    {
     "name": "stderr",
     "output_type": "stream",
     "text": [
      "      11/50         0G      1.389      1.717       1.31          0        640: 100%|██████████| 30/30 [13:57<00:00, 27.\n",
      "                 Class     Images  Instances      Box(P          R      mAP50  mAP50-95): 100%|██████████| 5/5 [00:13<0"
     ]
    },
    {
     "name": "stdout",
     "output_type": "stream",
     "text": [
      "                   all        133        330      0.649      0.512      0.599      0.324\n"
     ]
    },
    {
     "name": "stderr",
     "output_type": "stream",
     "text": [
      "\n"
     ]
    },
    {
     "name": "stdout",
     "output_type": "stream",
     "text": [
      "\n",
      "      Epoch    GPU_mem   box_loss   cls_loss   dfl_loss  Instances       Size\n"
     ]
    },
    {
     "name": "stderr",
     "output_type": "stream",
     "text": [
      "      12/50         0G      1.433      1.385      1.344          5        640: 100%|██████████| 30/30 [28:31<00:00, 57.\n",
      "                 Class     Images  Instances      Box(P          R      mAP50  mAP50-95): 100%|██████████| 5/5 [00:25<0"
     ]
    },
    {
     "name": "stdout",
     "output_type": "stream",
     "text": [
      "                   all        133        330      0.603      0.536      0.579      0.295\n"
     ]
    },
    {
     "name": "stderr",
     "output_type": "stream",
     "text": [
      "\n"
     ]
    },
    {
     "name": "stdout",
     "output_type": "stream",
     "text": [
      "\n",
      "      Epoch    GPU_mem   box_loss   cls_loss   dfl_loss  Instances       Size\n"
     ]
    },
    {
     "name": "stderr",
     "output_type": "stream",
     "text": [
      "      13/50         0G       1.41      1.379      1.347          4        640: 100%|██████████| 30/30 [09:14<00:00, 18.\n",
      "                 Class     Images  Instances      Box(P          R      mAP50  mAP50-95): 100%|██████████| 5/5 [00:25<0"
     ]
    },
    {
     "name": "stdout",
     "output_type": "stream",
     "text": [
      "                   all        133        330      0.706      0.606      0.667      0.388\n"
     ]
    },
    {
     "name": "stderr",
     "output_type": "stream",
     "text": [
      "\n"
     ]
    },
    {
     "name": "stdout",
     "output_type": "stream",
     "text": [
      "\n",
      "      Epoch    GPU_mem   box_loss   cls_loss   dfl_loss  Instances       Size\n"
     ]
    },
    {
     "name": "stderr",
     "output_type": "stream",
     "text": [
      "      14/50         0G      1.369      1.298      1.322          4        640: 100%|██████████| 30/30 [1:18:42<00:00, 1\n",
      "                 Class     Images  Instances      Box(P          R      mAP50  mAP50-95): 100%|██████████| 5/5 [00:17<0"
     ]
    },
    {
     "name": "stdout",
     "output_type": "stream",
     "text": [
      "                   all        133        330      0.698       0.57      0.655      0.376\n"
     ]
    },
    {
     "name": "stderr",
     "output_type": "stream",
     "text": [
      "\n"
     ]
    },
    {
     "name": "stdout",
     "output_type": "stream",
     "text": [
      "\n",
      "      Epoch    GPU_mem   box_loss   cls_loss   dfl_loss  Instances       Size\n"
     ]
    },
    {
     "name": "stderr",
     "output_type": "stream",
     "text": [
      "      15/50         0G      1.342      1.201      1.279          3        640: 100%|██████████| 30/30 [03:43<00:00,  7.\n",
      "                 Class     Images  Instances      Box(P          R      mAP50  mAP50-95): 100%|██████████| 5/5 [00:19<0"
     ]
    },
    {
     "name": "stdout",
     "output_type": "stream",
     "text": [
      "                   all        133        330      0.722      0.588      0.665      0.357\n"
     ]
    },
    {
     "name": "stderr",
     "output_type": "stream",
     "text": [
      "\n"
     ]
    },
    {
     "name": "stdout",
     "output_type": "stream",
     "text": [
      "\n",
      "      Epoch    GPU_mem   box_loss   cls_loss   dfl_loss  Instances       Size\n"
     ]
    },
    {
     "name": "stderr",
     "output_type": "stream",
     "text": [
      "      16/50         0G      1.376      1.213      1.299          4        640: 100%|██████████| 30/30 [03:08<00:00,  6.\n",
      "                 Class     Images  Instances      Box(P          R      mAP50  mAP50-95): 100%|██████████| 5/5 [00:14<0"
     ]
    },
    {
     "name": "stdout",
     "output_type": "stream",
     "text": [
      "                   all        133        330      0.688      0.536      0.647      0.368\n"
     ]
    },
    {
     "name": "stderr",
     "output_type": "stream",
     "text": [
      "\n"
     ]
    },
    {
     "name": "stdout",
     "output_type": "stream",
     "text": [
      "\n",
      "      Epoch    GPU_mem   box_loss   cls_loss   dfl_loss  Instances       Size\n"
     ]
    },
    {
     "name": "stderr",
     "output_type": "stream",
     "text": [
      "      17/50         0G      1.416       1.27      1.325          5        640: 100%|██████████| 30/30 [03:22<00:00,  6.\n",
      "                 Class     Images  Instances      Box(P          R      mAP50  mAP50-95): 100%|██████████| 5/5 [00:14<0"
     ]
    },
    {
     "name": "stdout",
     "output_type": "stream",
     "text": [
      "                   all        133        330        0.7      0.639      0.689      0.393\n"
     ]
    },
    {
     "name": "stderr",
     "output_type": "stream",
     "text": [
      "\n"
     ]
    },
    {
     "name": "stdout",
     "output_type": "stream",
     "text": [
      "\n",
      "      Epoch    GPU_mem   box_loss   cls_loss   dfl_loss  Instances       Size\n"
     ]
    },
    {
     "name": "stderr",
     "output_type": "stream",
     "text": [
      "      18/50         0G      1.324      1.205      1.271          4        640: 100%|██████████| 30/30 [03:21<00:00,  6.\n",
      "                 Class     Images  Instances      Box(P          R      mAP50  mAP50-95): 100%|██████████| 5/5 [00:20<0"
     ]
    },
    {
     "name": "stdout",
     "output_type": "stream",
     "text": [
      "                   all        133        330      0.789        0.6      0.718      0.422\n"
     ]
    },
    {
     "name": "stderr",
     "output_type": "stream",
     "text": [
      "\n"
     ]
    },
    {
     "name": "stdout",
     "output_type": "stream",
     "text": [
      "\n",
      "      Epoch    GPU_mem   box_loss   cls_loss   dfl_loss  Instances       Size\n"
     ]
    },
    {
     "name": "stderr",
     "output_type": "stream",
     "text": [
      "      19/50         0G       1.37       1.21      1.281          4        640: 100%|██████████| 30/30 [04:11<00:00,  8.\n",
      "                 Class     Images  Instances      Box(P          R      mAP50  mAP50-95): 100%|██████████| 5/5 [00:16<0"
     ]
    },
    {
     "name": "stdout",
     "output_type": "stream",
     "text": [
      "                   all        133        330      0.706      0.594      0.685      0.421\n"
     ]
    },
    {
     "name": "stderr",
     "output_type": "stream",
     "text": [
      "\n"
     ]
    },
    {
     "name": "stdout",
     "output_type": "stream",
     "text": [
      "\n",
      "      Epoch    GPU_mem   box_loss   cls_loss   dfl_loss  Instances       Size\n"
     ]
    },
    {
     "name": "stderr",
     "output_type": "stream",
     "text": [
      "      20/50         0G       1.32      1.161      1.274          4        640: 100%|██████████| 30/30 [03:17<00:00,  6.\n",
      "                 Class     Images  Instances      Box(P          R      mAP50  mAP50-95): 100%|██████████| 5/5 [00:17<0"
     ]
    },
    {
     "name": "stdout",
     "output_type": "stream",
     "text": [
      "                   all        133        330      0.742      0.627      0.699      0.408\n"
     ]
    },
    {
     "name": "stderr",
     "output_type": "stream",
     "text": [
      "\n"
     ]
    },
    {
     "name": "stdout",
     "output_type": "stream",
     "text": [
      "\n",
      "      Epoch    GPU_mem   box_loss   cls_loss   dfl_loss  Instances       Size\n"
     ]
    },
    {
     "name": "stderr",
     "output_type": "stream",
     "text": [
      "      21/50         0G      1.263      1.154      1.258         22        640: 100%|██████████| 30/30 [03:22<00:00,  6.\n",
      "                 Class     Images  Instances      Box(P          R      mAP50  mAP50-95): 100%|██████████| 5/5 [00:20<0"
     ]
    },
    {
     "name": "stdout",
     "output_type": "stream",
     "text": [
      "                   all        133        330      0.728      0.609      0.707      0.431\n"
     ]
    },
    {
     "name": "stderr",
     "output_type": "stream",
     "text": [
      "\n"
     ]
    },
    {
     "name": "stdout",
     "output_type": "stream",
     "text": [
      "\n",
      "      Epoch    GPU_mem   box_loss   cls_loss   dfl_loss  Instances       Size\n"
     ]
    },
    {
     "name": "stderr",
     "output_type": "stream",
     "text": [
      "      22/50         0G      1.246      1.057      1.237          3        640: 100%|██████████| 30/30 [03:35<00:00,  7.\n",
      "                 Class     Images  Instances      Box(P          R      mAP50  mAP50-95): 100%|██████████| 5/5 [00:16<0"
     ]
    },
    {
     "name": "stdout",
     "output_type": "stream",
     "text": [
      "                   all        133        330      0.772        0.6      0.699      0.425\n"
     ]
    },
    {
     "name": "stderr",
     "output_type": "stream",
     "text": [
      "\n"
     ]
    },
    {
     "name": "stdout",
     "output_type": "stream",
     "text": [
      "\n",
      "      Epoch    GPU_mem   box_loss   cls_loss   dfl_loss  Instances       Size\n"
     ]
    },
    {
     "name": "stderr",
     "output_type": "stream",
     "text": [
      "      23/50         0G      1.289      1.106      1.267          4        640: 100%|██████████| 30/30 [03:12<00:00,  6.\n",
      "                 Class     Images  Instances      Box(P          R      mAP50  mAP50-95): 100%|██████████| 5/5 [00:15<0"
     ]
    },
    {
     "name": "stdout",
     "output_type": "stream",
     "text": [
      "                   all        133        330      0.774      0.667      0.721       0.42\n"
     ]
    },
    {
     "name": "stderr",
     "output_type": "stream",
     "text": [
      "\n"
     ]
    },
    {
     "name": "stdout",
     "output_type": "stream",
     "text": [
      "\n",
      "      Epoch    GPU_mem   box_loss   cls_loss   dfl_loss  Instances       Size\n"
     ]
    },
    {
     "name": "stderr",
     "output_type": "stream",
     "text": [
      "      24/50         0G      1.249      1.077      1.239         10        640: 100%|██████████| 30/30 [03:15<00:00,  6.\n",
      "                 Class     Images  Instances      Box(P          R      mAP50  mAP50-95): 100%|██████████| 5/5 [00:17<0"
     ]
    },
    {
     "name": "stdout",
     "output_type": "stream",
     "text": [
      "                   all        133        330      0.713      0.636      0.689      0.401\n"
     ]
    },
    {
     "name": "stderr",
     "output_type": "stream",
     "text": [
      "\n"
     ]
    },
    {
     "name": "stdout",
     "output_type": "stream",
     "text": [
      "\n",
      "      Epoch    GPU_mem   box_loss   cls_loss   dfl_loss  Instances       Size\n"
     ]
    },
    {
     "name": "stderr",
     "output_type": "stream",
     "text": [
      "      25/50         0G      1.241       1.04      1.214          2        640: 100%|██████████| 30/30 [02:59<00:00,  5.\n",
      "                 Class     Images  Instances      Box(P          R      mAP50  mAP50-95): 100%|██████████| 5/5 [00:14<0"
     ]
    },
    {
     "name": "stdout",
     "output_type": "stream",
     "text": [
      "                   all        133        330      0.666      0.652      0.693      0.407\n"
     ]
    },
    {
     "name": "stderr",
     "output_type": "stream",
     "text": [
      "\n"
     ]
    },
    {
     "name": "stdout",
     "output_type": "stream",
     "text": [
      "\n",
      "      Epoch    GPU_mem   box_loss   cls_loss   dfl_loss  Instances       Size\n"
     ]
    },
    {
     "name": "stderr",
     "output_type": "stream",
     "text": [
      "      26/50         0G      1.256      1.019      1.245          7        640: 100%|██████████| 30/30 [02:51<00:00,  5.\n",
      "                 Class     Images  Instances      Box(P          R      mAP50  mAP50-95): 100%|██████████| 5/5 [00:14<0"
     ]
    },
    {
     "name": "stdout",
     "output_type": "stream",
     "text": [
      "                   all        133        330      0.714      0.652      0.718      0.423\n"
     ]
    },
    {
     "name": "stderr",
     "output_type": "stream",
     "text": [
      "\n"
     ]
    },
    {
     "name": "stdout",
     "output_type": "stream",
     "text": [
      "\n",
      "      Epoch    GPU_mem   box_loss   cls_loss   dfl_loss  Instances       Size\n"
     ]
    },
    {
     "name": "stderr",
     "output_type": "stream",
     "text": [
      "      27/50         0G       1.24      1.031      1.225          2        640: 100%|██████████| 30/30 [02:48<00:00,  5.\n",
      "                 Class     Images  Instances      Box(P          R      mAP50  mAP50-95): 100%|██████████| 5/5 [00:15<0"
     ]
    },
    {
     "name": "stdout",
     "output_type": "stream",
     "text": [
      "                   all        133        330      0.815      0.597      0.721      0.429\n"
     ]
    },
    {
     "name": "stderr",
     "output_type": "stream",
     "text": [
      "\n"
     ]
    },
    {
     "name": "stdout",
     "output_type": "stream",
     "text": [
      "\n",
      "      Epoch    GPU_mem   box_loss   cls_loss   dfl_loss  Instances       Size\n"
     ]
    },
    {
     "name": "stderr",
     "output_type": "stream",
     "text": [
      "      28/50         0G      1.264       1.24       1.28          1        640: 100%|██████████| 30/30 [08:11<00:00, 16.\n",
      "                 Class     Images  Instances      Box(P          R      mAP50  mAP50-95): 100%|██████████| 5/5 [00:14<0"
     ]
    },
    {
     "name": "stdout",
     "output_type": "stream",
     "text": [
      "                   all        133        330      0.784      0.606       0.72      0.437\n"
     ]
    },
    {
     "name": "stderr",
     "output_type": "stream",
     "text": [
      "\n"
     ]
    },
    {
     "name": "stdout",
     "output_type": "stream",
     "text": [
      "\n",
      "      Epoch    GPU_mem   box_loss   cls_loss   dfl_loss  Instances       Size\n"
     ]
    },
    {
     "name": "stderr",
     "output_type": "stream",
     "text": [
      "      29/50         0G      1.182      0.956      1.185          2        640: 100%|██████████| 30/30 [03:51<00:00,  7.\n",
      "                 Class     Images  Instances      Box(P          R      mAP50  mAP50-95): 100%|██████████| 5/5 [00:25<0"
     ]
    },
    {
     "name": "stdout",
     "output_type": "stream",
     "text": [
      "                   all        133        330      0.742      0.603       0.69      0.426\n"
     ]
    },
    {
     "name": "stderr",
     "output_type": "stream",
     "text": [
      "\n"
     ]
    },
    {
     "name": "stdout",
     "output_type": "stream",
     "text": [
      "\n",
      "      Epoch    GPU_mem   box_loss   cls_loss   dfl_loss  Instances       Size\n"
     ]
    },
    {
     "name": "stderr",
     "output_type": "stream",
     "text": [
      "      30/50         0G      1.172     0.9531      1.185          2        640: 100%|██████████| 30/30 [10:17<00:00, 20.\n",
      "                 Class     Images  Instances      Box(P          R      mAP50  mAP50-95): 100%|██████████| 5/5 [00:25<0"
     ]
    },
    {
     "name": "stdout",
     "output_type": "stream",
     "text": [
      "                   all        133        330      0.788      0.588      0.693      0.411\n"
     ]
    },
    {
     "name": "stderr",
     "output_type": "stream",
     "text": [
      "\n"
     ]
    },
    {
     "name": "stdout",
     "output_type": "stream",
     "text": [
      "\n",
      "      Epoch    GPU_mem   box_loss   cls_loss   dfl_loss  Instances       Size\n"
     ]
    },
    {
     "name": "stderr",
     "output_type": "stream",
     "text": [
      "      31/50         0G      1.181     0.9472      1.194          3        640: 100%|██████████| 30/30 [22:37<00:00, 45.\n",
      "                 Class     Images  Instances      Box(P          R      mAP50  mAP50-95): 100%|██████████| 5/5 [00:25<0"
     ]
    },
    {
     "name": "stdout",
     "output_type": "stream",
     "text": [
      "                   all        133        330      0.797      0.606      0.713      0.435\n"
     ]
    },
    {
     "name": "stderr",
     "output_type": "stream",
     "text": [
      "\n"
     ]
    },
    {
     "name": "stdout",
     "output_type": "stream",
     "text": [
      "\n",
      "      Epoch    GPU_mem   box_loss   cls_loss   dfl_loss  Instances       Size\n"
     ]
    },
    {
     "name": "stderr",
     "output_type": "stream",
     "text": [
      "      32/50         0G      1.145     0.9136      1.164          2        640: 100%|██████████| 30/30 [04:36<00:00,  9.\n",
      "                 Class     Images  Instances      Box(P          R      mAP50  mAP50-95): 100%|██████████| 5/5 [00:25<0"
     ]
    },
    {
     "name": "stdout",
     "output_type": "stream",
     "text": [
      "                   all        133        330      0.686      0.658       0.71      0.439\n"
     ]
    },
    {
     "name": "stderr",
     "output_type": "stream",
     "text": [
      "\n"
     ]
    },
    {
     "name": "stdout",
     "output_type": "stream",
     "text": [
      "\n",
      "      Epoch    GPU_mem   box_loss   cls_loss   dfl_loss  Instances       Size\n"
     ]
    },
    {
     "name": "stderr",
     "output_type": "stream",
     "text": [
      "      33/50         0G      1.129     0.9462      1.145         43        640: 100%|██████████| 30/30 [04:32<00:00,  9.\n",
      "                 Class     Images  Instances      Box(P          R      mAP50  mAP50-95): 100%|██████████| 5/5 [00:25<0"
     ]
    },
    {
     "name": "stdout",
     "output_type": "stream",
     "text": [
      "                   all        133        330      0.737      0.642      0.707      0.435\n"
     ]
    },
    {
     "name": "stderr",
     "output_type": "stream",
     "text": [
      "\n"
     ]
    },
    {
     "name": "stdout",
     "output_type": "stream",
     "text": [
      "\n",
      "      Epoch    GPU_mem   box_loss   cls_loss   dfl_loss  Instances       Size\n"
     ]
    },
    {
     "name": "stderr",
     "output_type": "stream",
     "text": [
      "      34/50         0G      1.147     0.9023      1.171         12        640: 100%|██████████| 30/30 [04:35<00:00,  9.\n",
      "                 Class     Images  Instances      Box(P          R      mAP50  mAP50-95): 100%|██████████| 5/5 [00:25<0"
     ]
    },
    {
     "name": "stdout",
     "output_type": "stream",
     "text": [
      "                   all        133        330      0.824      0.639      0.752      0.464\n"
     ]
    },
    {
     "name": "stderr",
     "output_type": "stream",
     "text": [
      "\n"
     ]
    },
    {
     "name": "stdout",
     "output_type": "stream",
     "text": [
      "\n",
      "      Epoch    GPU_mem   box_loss   cls_loss   dfl_loss  Instances       Size\n"
     ]
    },
    {
     "name": "stderr",
     "output_type": "stream",
     "text": [
      "      35/50         0G      1.121      0.909      1.164          1        640: 100%|██████████| 30/30 [04:35<00:00,  9.\n",
      "                 Class     Images  Instances      Box(P          R      mAP50  mAP50-95): 100%|██████████| 5/5 [00:25<0"
     ]
    },
    {
     "name": "stdout",
     "output_type": "stream",
     "text": [
      "                   all        133        330      0.737      0.681      0.739      0.453\n"
     ]
    },
    {
     "name": "stderr",
     "output_type": "stream",
     "text": [
      "\n"
     ]
    },
    {
     "name": "stdout",
     "output_type": "stream",
     "text": [
      "\n",
      "      Epoch    GPU_mem   box_loss   cls_loss   dfl_loss  Instances       Size\n"
     ]
    },
    {
     "name": "stderr",
     "output_type": "stream",
     "text": [
      "      36/50         0G      1.093     0.8777      1.147          5        640: 100%|██████████| 30/30 [04:34<00:00,  9.\n",
      "                 Class     Images  Instances      Box(P          R      mAP50  mAP50-95): 100%|██████████| 5/5 [00:25<0"
     ]
    },
    {
     "name": "stdout",
     "output_type": "stream",
     "text": [
      "                   all        133        330      0.834      0.615      0.743      0.467\n"
     ]
    },
    {
     "name": "stderr",
     "output_type": "stream",
     "text": [
      "\n"
     ]
    },
    {
     "name": "stdout",
     "output_type": "stream",
     "text": [
      "\n",
      "      Epoch    GPU_mem   box_loss   cls_loss   dfl_loss  Instances       Size\n"
     ]
    },
    {
     "name": "stderr",
     "output_type": "stream",
     "text": [
      "      37/50         0G      1.093      0.878      1.146          5        640: 100%|██████████| 30/30 [06:57<00:00, 13.\n",
      "                 Class     Images  Instances      Box(P          R      mAP50  mAP50-95): 100%|██████████| 5/5 [00:25<0"
     ]
    },
    {
     "name": "stdout",
     "output_type": "stream",
     "text": [
      "                   all        133        330      0.778      0.673      0.758      0.466\n"
     ]
    },
    {
     "name": "stderr",
     "output_type": "stream",
     "text": [
      "\n"
     ]
    },
    {
     "name": "stdout",
     "output_type": "stream",
     "text": [
      "\n",
      "      Epoch    GPU_mem   box_loss   cls_loss   dfl_loss  Instances       Size\n"
     ]
    },
    {
     "name": "stderr",
     "output_type": "stream",
     "text": [
      "      38/50         0G       1.04      0.799      1.118          2        640: 100%|██████████| 30/30 [04:35<00:00,  9.\n",
      "                 Class     Images  Instances      Box(P          R      mAP50  mAP50-95): 100%|██████████| 5/5 [00:25<0"
     ]
    },
    {
     "name": "stdout",
     "output_type": "stream",
     "text": [
      "                   all        133        330      0.787      0.648      0.732      0.456\n"
     ]
    },
    {
     "name": "stderr",
     "output_type": "stream",
     "text": [
      "\n"
     ]
    },
    {
     "name": "stdout",
     "output_type": "stream",
     "text": [
      "\n",
      "      Epoch    GPU_mem   box_loss   cls_loss   dfl_loss  Instances       Size\n"
     ]
    },
    {
     "name": "stderr",
     "output_type": "stream",
     "text": [
      "      39/50         0G      1.134     0.8471      1.281          1        640: 100%|██████████| 30/30 [04:35<00:00,  9.\n",
      "                 Class     Images  Instances      Box(P          R      mAP50  mAP50-95): 100%|██████████| 5/5 [00:25<0"
     ]
    },
    {
     "name": "stdout",
     "output_type": "stream",
     "text": [
      "                   all        133        330      0.828      0.664      0.768      0.482\n"
     ]
    },
    {
     "name": "stderr",
     "output_type": "stream",
     "text": [
      "\n"
     ]
    },
    {
     "name": "stdout",
     "output_type": "stream",
     "text": [
      "\n",
      "      Epoch    GPU_mem   box_loss   cls_loss   dfl_loss  Instances       Size\n"
     ]
    },
    {
     "name": "stderr",
     "output_type": "stream",
     "text": [
      "      40/50         0G      1.093     0.8362      1.135          2        640: 100%|██████████| 30/30 [04:37<00:00,  9.\n",
      "                 Class     Images  Instances      Box(P          R      mAP50  mAP50-95): 100%|██████████| 5/5 [00:25<0"
     ]
    },
    {
     "name": "stdout",
     "output_type": "stream",
     "text": [
      "                   all        133        330      0.787      0.661      0.754      0.475\n"
     ]
    },
    {
     "name": "stderr",
     "output_type": "stream",
     "text": [
      "\n"
     ]
    },
    {
     "name": "stdout",
     "output_type": "stream",
     "text": [
      "Closing dataloader mosaic\n",
      "\n",
      "      Epoch    GPU_mem   box_loss   cls_loss   dfl_loss  Instances       Size\n"
     ]
    },
    {
     "name": "stderr",
     "output_type": "stream",
     "text": [
      "'pin_memory' argument is set as true but no accelerator is found, then device pinned memory won't be used.\n",
      "      41/50         0G      1.031     0.8564      1.091          4        640: 100%|██████████| 30/30 [04:33<00:00,  9.\n",
      "                 Class     Images  Instances      Box(P          R      mAP50  mAP50-95): 100%|██████████| 5/5 [00:25<0"
     ]
    },
    {
     "name": "stdout",
     "output_type": "stream",
     "text": [
      "                   all        133        330      0.797      0.642      0.731      0.447\n"
     ]
    },
    {
     "name": "stderr",
     "output_type": "stream",
     "text": [
      "\n"
     ]
    },
    {
     "name": "stdout",
     "output_type": "stream",
     "text": [
      "\n",
      "      Epoch    GPU_mem   box_loss   cls_loss   dfl_loss  Instances       Size\n"
     ]
    },
    {
     "name": "stderr",
     "output_type": "stream",
     "text": [
      "      42/50         0G     0.9865     0.7866      1.091          1        640: 100%|██████████| 30/30 [04:33<00:00,  9.\n",
      "                 Class     Images  Instances      Box(P          R      mAP50  mAP50-95): 100%|██████████| 5/5 [00:25<0"
     ]
    },
    {
     "name": "stdout",
     "output_type": "stream",
     "text": [
      "                   all        133        330      0.788       0.67      0.758      0.478\n"
     ]
    },
    {
     "name": "stderr",
     "output_type": "stream",
     "text": [
      "\n"
     ]
    },
    {
     "name": "stdout",
     "output_type": "stream",
     "text": [
      "\n",
      "      Epoch    GPU_mem   box_loss   cls_loss   dfl_loss  Instances       Size\n"
     ]
    },
    {
     "name": "stderr",
     "output_type": "stream",
     "text": [
      "      43/50         0G       1.01     0.7568      1.117          1        640: 100%|██████████| 30/30 [04:30<00:00,  9.\n",
      "                 Class     Images  Instances      Box(P          R      mAP50  mAP50-95): 100%|██████████| 5/5 [00:25<0"
     ]
    },
    {
     "name": "stdout",
     "output_type": "stream",
     "text": [
      "                   all        133        330      0.751      0.682      0.756      0.471\n"
     ]
    },
    {
     "name": "stderr",
     "output_type": "stream",
     "text": [
      "\n"
     ]
    },
    {
     "name": "stdout",
     "output_type": "stream",
     "text": [
      "\n",
      "      Epoch    GPU_mem   box_loss   cls_loss   dfl_loss  Instances       Size\n"
     ]
    },
    {
     "name": "stderr",
     "output_type": "stream",
     "text": [
      "      44/50         0G     0.9647     0.7019      1.069          3        640: 100%|██████████| 30/30 [04:32<00:00,  9.\n",
      "                 Class     Images  Instances      Box(P          R      mAP50  mAP50-95): 100%|██████████| 5/5 [00:25<0"
     ]
    },
    {
     "name": "stdout",
     "output_type": "stream",
     "text": [
      "                   all        133        330      0.808      0.682      0.768      0.474\n"
     ]
    },
    {
     "name": "stderr",
     "output_type": "stream",
     "text": [
      "\n"
     ]
    },
    {
     "name": "stdout",
     "output_type": "stream",
     "text": [
      "\n",
      "      Epoch    GPU_mem   box_loss   cls_loss   dfl_loss  Instances       Size\n"
     ]
    },
    {
     "name": "stderr",
     "output_type": "stream",
     "text": [
      "      45/50         0G     0.9036     0.6653      1.037          1        640: 100%|██████████| 30/30 [04:32<00:00,  9.\n",
      "                 Class     Images  Instances      Box(P          R      mAP50  mAP50-95): 100%|██████████| 5/5 [00:25<0"
     ]
    },
    {
     "name": "stdout",
     "output_type": "stream",
     "text": [
      "                   all        133        330       0.79      0.676      0.766      0.476\n"
     ]
    },
    {
     "name": "stderr",
     "output_type": "stream",
     "text": [
      "\n"
     ]
    },
    {
     "name": "stdout",
     "output_type": "stream",
     "text": [
      "\n",
      "      Epoch    GPU_mem   box_loss   cls_loss   dfl_loss  Instances       Size\n"
     ]
    },
    {
     "name": "stderr",
     "output_type": "stream",
     "text": [
      "      46/50         0G     0.9426      0.654      1.052          2        640: 100%|██████████| 30/30 [04:31<00:00,  9.\n",
      "                 Class     Images  Instances      Box(P          R      mAP50  mAP50-95): 100%|██████████| 5/5 [00:25<0"
     ]
    },
    {
     "name": "stdout",
     "output_type": "stream",
     "text": [
      "                   all        133        330      0.748      0.676      0.759       0.48\n"
     ]
    },
    {
     "name": "stderr",
     "output_type": "stream",
     "text": [
      "\n"
     ]
    },
    {
     "name": "stdout",
     "output_type": "stream",
     "text": [
      "\n",
      "      Epoch    GPU_mem   box_loss   cls_loss   dfl_loss  Instances       Size\n"
     ]
    },
    {
     "name": "stderr",
     "output_type": "stream",
     "text": [
      "      47/50         0G     0.9173     0.6491      1.026          3        640: 100%|██████████| 30/30 [04:31<00:00,  9.\n",
      "                 Class     Images  Instances      Box(P          R      mAP50  mAP50-95): 100%|██████████| 5/5 [00:25<0"
     ]
    },
    {
     "name": "stdout",
     "output_type": "stream",
     "text": [
      "                   all        133        330      0.825      0.676      0.764       0.49\n"
     ]
    },
    {
     "name": "stderr",
     "output_type": "stream",
     "text": [
      "\n"
     ]
    },
    {
     "name": "stdout",
     "output_type": "stream",
     "text": [
      "\n",
      "      Epoch    GPU_mem   box_loss   cls_loss   dfl_loss  Instances       Size\n"
     ]
    },
    {
     "name": "stderr",
     "output_type": "stream",
     "text": [
      "      48/50         0G     0.9071     0.6276      1.034          2        640: 100%|██████████| 30/30 [04:32<00:00,  9.\n",
      "                 Class     Images  Instances      Box(P          R      mAP50  mAP50-95): 100%|██████████| 5/5 [00:25<0"
     ]
    },
    {
     "name": "stdout",
     "output_type": "stream",
     "text": [
      "                   all        133        330      0.758      0.706      0.765      0.492\n"
     ]
    },
    {
     "name": "stderr",
     "output_type": "stream",
     "text": [
      "\n"
     ]
    },
    {
     "name": "stdout",
     "output_type": "stream",
     "text": [
      "\n",
      "      Epoch    GPU_mem   box_loss   cls_loss   dfl_loss  Instances       Size\n"
     ]
    },
    {
     "name": "stderr",
     "output_type": "stream",
     "text": [
      "      49/50         0G     0.8978     0.6836      1.023          4        640: 100%|██████████| 30/30 [04:31<00:00,  9.\n",
      "                 Class     Images  Instances      Box(P          R      mAP50  mAP50-95): 100%|██████████| 5/5 [00:25<0"
     ]
    },
    {
     "name": "stdout",
     "output_type": "stream",
     "text": [
      "                   all        133        330      0.786        0.7      0.767      0.492\n"
     ]
    },
    {
     "name": "stderr",
     "output_type": "stream",
     "text": [
      "\n"
     ]
    },
    {
     "name": "stdout",
     "output_type": "stream",
     "text": [
      "\n",
      "      Epoch    GPU_mem   box_loss   cls_loss   dfl_loss  Instances       Size\n"
     ]
    },
    {
     "name": "stderr",
     "output_type": "stream",
     "text": [
      "      50/50         0G     0.9364     0.6655       1.06          2        640: 100%|██████████| 30/30 [04:31<00:00,  9.\n",
      "                 Class     Images  Instances      Box(P          R      mAP50  mAP50-95): 100%|██████████| 5/5 [00:25<0"
     ]
    },
    {
     "name": "stdout",
     "output_type": "stream",
     "text": [
      "                   all        133        330      0.804      0.683      0.767       0.49\n"
     ]
    },
    {
     "name": "stderr",
     "output_type": "stream",
     "text": [
      "\n"
     ]
    },
    {
     "name": "stdout",
     "output_type": "stream",
     "text": [
      "\n",
      "50 epochs completed in 7.191 hours.\n",
      "Optimizer stripped from runs\\detect\\train2\\weights\\last.pt, 6.2MB\n",
      "Optimizer stripped from runs\\detect\\train2\\weights\\best.pt, 6.2MB\n",
      "\n",
      "Validating runs\\detect\\train2\\weights\\best.pt...\n",
      "Ultralytics 8.3.40  Python-3.12.4 torch-2.7.0+cpu CPU (11th Gen Intel Core(TM) i5-1135G7 2.40GHz)\n",
      "Model summary (fused): 168 layers, 3,005,843 parameters, 0 gradients, 8.1 GFLOPs\n"
     ]
    },
    {
     "name": "stderr",
     "output_type": "stream",
     "text": [
      "                 Class     Images  Instances      Box(P          R      mAP50  mAP50-95): 100%|██████████| 5/5 [00:23<0\n"
     ]
    },
    {
     "name": "stdout",
     "output_type": "stream",
     "text": [
      "                   all        133        330      0.786      0.701      0.767      0.492\n",
      "Speed: 4.0ms preprocess, 136.8ms inference, 0.0ms loss, 1.0ms postprocess per image\n",
      "Results saved to \u001b[1mruns\\detect\\train2\u001b[0m\n"
     ]
    },
    {
     "data": {
      "text/plain": [
       "ultralytics.utils.metrics.DetMetrics object with attributes:\n",
       "\n",
       "ap_class_index: array([0])\n",
       "box: ultralytics.utils.metrics.Metric object\n",
       "confusion_matrix: <ultralytics.utils.metrics.ConfusionMatrix object at 0x00000162E29179B0>\n",
       "curves: ['Precision-Recall(B)', 'F1-Confidence(B)', 'Precision-Confidence(B)', 'Recall-Confidence(B)']\n",
       "curves_results: [[array([          0,    0.001001,    0.002002,    0.003003,    0.004004,    0.005005,    0.006006,    0.007007,    0.008008,    0.009009,     0.01001,    0.011011,    0.012012,    0.013013,    0.014014,    0.015015,    0.016016,    0.017017,    0.018018,    0.019019,     0.02002,    0.021021,    0.022022,    0.023023,\n",
       "          0.024024,    0.025025,    0.026026,    0.027027,    0.028028,    0.029029,     0.03003,    0.031031,    0.032032,    0.033033,    0.034034,    0.035035,    0.036036,    0.037037,    0.038038,    0.039039,     0.04004,    0.041041,    0.042042,    0.043043,    0.044044,    0.045045,    0.046046,    0.047047,\n",
       "          0.048048,    0.049049,     0.05005,    0.051051,    0.052052,    0.053053,    0.054054,    0.055055,    0.056056,    0.057057,    0.058058,    0.059059,     0.06006,    0.061061,    0.062062,    0.063063,    0.064064,    0.065065,    0.066066,    0.067067,    0.068068,    0.069069,     0.07007,    0.071071,\n",
       "          0.072072,    0.073073,    0.074074,    0.075075,    0.076076,    0.077077,    0.078078,    0.079079,     0.08008,    0.081081,    0.082082,    0.083083,    0.084084,    0.085085,    0.086086,    0.087087,    0.088088,    0.089089,     0.09009,    0.091091,    0.092092,    0.093093,    0.094094,    0.095095,\n",
       "          0.096096,    0.097097,    0.098098,    0.099099,      0.1001,      0.1011,      0.1021,      0.1031,      0.1041,     0.10511,     0.10611,     0.10711,     0.10811,     0.10911,     0.11011,     0.11111,     0.11211,     0.11311,     0.11411,     0.11512,     0.11612,     0.11712,     0.11812,     0.11912,\n",
       "           0.12012,     0.12112,     0.12212,     0.12312,     0.12412,     0.12513,     0.12613,     0.12713,     0.12813,     0.12913,     0.13013,     0.13113,     0.13213,     0.13313,     0.13413,     0.13514,     0.13614,     0.13714,     0.13814,     0.13914,     0.14014,     0.14114,     0.14214,     0.14314,\n",
       "           0.14414,     0.14515,     0.14615,     0.14715,     0.14815,     0.14915,     0.15015,     0.15115,     0.15215,     0.15315,     0.15415,     0.15516,     0.15616,     0.15716,     0.15816,     0.15916,     0.16016,     0.16116,     0.16216,     0.16316,     0.16416,     0.16517,     0.16617,     0.16717,\n",
       "           0.16817,     0.16917,     0.17017,     0.17117,     0.17217,     0.17317,     0.17417,     0.17518,     0.17618,     0.17718,     0.17818,     0.17918,     0.18018,     0.18118,     0.18218,     0.18318,     0.18418,     0.18519,     0.18619,     0.18719,     0.18819,     0.18919,     0.19019,     0.19119,\n",
       "           0.19219,     0.19319,     0.19419,      0.1952,      0.1962,      0.1972,      0.1982,      0.1992,      0.2002,      0.2012,      0.2022,      0.2032,      0.2042,     0.20521,     0.20621,     0.20721,     0.20821,     0.20921,     0.21021,     0.21121,     0.21221,     0.21321,     0.21421,     0.21522,\n",
       "           0.21622,     0.21722,     0.21822,     0.21922,     0.22022,     0.22122,     0.22222,     0.22322,     0.22422,     0.22523,     0.22623,     0.22723,     0.22823,     0.22923,     0.23023,     0.23123,     0.23223,     0.23323,     0.23423,     0.23524,     0.23624,     0.23724,     0.23824,     0.23924,\n",
       "           0.24024,     0.24124,     0.24224,     0.24324,     0.24424,     0.24525,     0.24625,     0.24725,     0.24825,     0.24925,     0.25025,     0.25125,     0.25225,     0.25325,     0.25425,     0.25526,     0.25626,     0.25726,     0.25826,     0.25926,     0.26026,     0.26126,     0.26226,     0.26326,\n",
       "           0.26426,     0.26527,     0.26627,     0.26727,     0.26827,     0.26927,     0.27027,     0.27127,     0.27227,     0.27327,     0.27427,     0.27528,     0.27628,     0.27728,     0.27828,     0.27928,     0.28028,     0.28128,     0.28228,     0.28328,     0.28428,     0.28529,     0.28629,     0.28729,\n",
       "           0.28829,     0.28929,     0.29029,     0.29129,     0.29229,     0.29329,     0.29429,      0.2953,      0.2963,      0.2973,      0.2983,      0.2993,      0.3003,      0.3013,      0.3023,      0.3033,      0.3043,     0.30531,     0.30631,     0.30731,     0.30831,     0.30931,     0.31031,     0.31131,\n",
       "           0.31231,     0.31331,     0.31431,     0.31532,     0.31632,     0.31732,     0.31832,     0.31932,     0.32032,     0.32132,     0.32232,     0.32332,     0.32432,     0.32533,     0.32633,     0.32733,     0.32833,     0.32933,     0.33033,     0.33133,     0.33233,     0.33333,     0.33433,     0.33534,\n",
       "           0.33634,     0.33734,     0.33834,     0.33934,     0.34034,     0.34134,     0.34234,     0.34334,     0.34434,     0.34535,     0.34635,     0.34735,     0.34835,     0.34935,     0.35035,     0.35135,     0.35235,     0.35335,     0.35435,     0.35536,     0.35636,     0.35736,     0.35836,     0.35936,\n",
       "           0.36036,     0.36136,     0.36236,     0.36336,     0.36436,     0.36537,     0.36637,     0.36737,     0.36837,     0.36937,     0.37037,     0.37137,     0.37237,     0.37337,     0.37437,     0.37538,     0.37638,     0.37738,     0.37838,     0.37938,     0.38038,     0.38138,     0.38238,     0.38338,\n",
       "           0.38438,     0.38539,     0.38639,     0.38739,     0.38839,     0.38939,     0.39039,     0.39139,     0.39239,     0.39339,     0.39439,      0.3954,      0.3964,      0.3974,      0.3984,      0.3994,      0.4004,      0.4014,      0.4024,      0.4034,      0.4044,     0.40541,     0.40641,     0.40741,\n",
       "           0.40841,     0.40941,     0.41041,     0.41141,     0.41241,     0.41341,     0.41441,     0.41542,     0.41642,     0.41742,     0.41842,     0.41942,     0.42042,     0.42142,     0.42242,     0.42342,     0.42442,     0.42543,     0.42643,     0.42743,     0.42843,     0.42943,     0.43043,     0.43143,\n",
       "           0.43243,     0.43343,     0.43443,     0.43544,     0.43644,     0.43744,     0.43844,     0.43944,     0.44044,     0.44144,     0.44244,     0.44344,     0.44444,     0.44545,     0.44645,     0.44745,     0.44845,     0.44945,     0.45045,     0.45145,     0.45245,     0.45345,     0.45445,     0.45546,\n",
       "           0.45646,     0.45746,     0.45846,     0.45946,     0.46046,     0.46146,     0.46246,     0.46346,     0.46446,     0.46547,     0.46647,     0.46747,     0.46847,     0.46947,     0.47047,     0.47147,     0.47247,     0.47347,     0.47447,     0.47548,     0.47648,     0.47748,     0.47848,     0.47948,\n",
       "           0.48048,     0.48148,     0.48248,     0.48348,     0.48448,     0.48549,     0.48649,     0.48749,     0.48849,     0.48949,     0.49049,     0.49149,     0.49249,     0.49349,     0.49449,      0.4955,      0.4965,      0.4975,      0.4985,      0.4995,      0.5005,      0.5015,      0.5025,      0.5035,\n",
       "            0.5045,     0.50551,     0.50651,     0.50751,     0.50851,     0.50951,     0.51051,     0.51151,     0.51251,     0.51351,     0.51451,     0.51552,     0.51652,     0.51752,     0.51852,     0.51952,     0.52052,     0.52152,     0.52252,     0.52352,     0.52452,     0.52553,     0.52653,     0.52753,\n",
       "           0.52853,     0.52953,     0.53053,     0.53153,     0.53253,     0.53353,     0.53453,     0.53554,     0.53654,     0.53754,     0.53854,     0.53954,     0.54054,     0.54154,     0.54254,     0.54354,     0.54454,     0.54555,     0.54655,     0.54755,     0.54855,     0.54955,     0.55055,     0.55155,\n",
       "           0.55255,     0.55355,     0.55455,     0.55556,     0.55656,     0.55756,     0.55856,     0.55956,     0.56056,     0.56156,     0.56256,     0.56356,     0.56456,     0.56557,     0.56657,     0.56757,     0.56857,     0.56957,     0.57057,     0.57157,     0.57257,     0.57357,     0.57457,     0.57558,\n",
       "           0.57658,     0.57758,     0.57858,     0.57958,     0.58058,     0.58158,     0.58258,     0.58358,     0.58458,     0.58559,     0.58659,     0.58759,     0.58859,     0.58959,     0.59059,     0.59159,     0.59259,     0.59359,     0.59459,      0.5956,      0.5966,      0.5976,      0.5986,      0.5996,\n",
       "            0.6006,      0.6016,      0.6026,      0.6036,      0.6046,     0.60561,     0.60661,     0.60761,     0.60861,     0.60961,     0.61061,     0.61161,     0.61261,     0.61361,     0.61461,     0.61562,     0.61662,     0.61762,     0.61862,     0.61962,     0.62062,     0.62162,     0.62262,     0.62362,\n",
       "           0.62462,     0.62563,     0.62663,     0.62763,     0.62863,     0.62963,     0.63063,     0.63163,     0.63263,     0.63363,     0.63463,     0.63564,     0.63664,     0.63764,     0.63864,     0.63964,     0.64064,     0.64164,     0.64264,     0.64364,     0.64464,     0.64565,     0.64665,     0.64765,\n",
       "           0.64865,     0.64965,     0.65065,     0.65165,     0.65265,     0.65365,     0.65465,     0.65566,     0.65666,     0.65766,     0.65866,     0.65966,     0.66066,     0.66166,     0.66266,     0.66366,     0.66466,     0.66567,     0.66667,     0.66767,     0.66867,     0.66967,     0.67067,     0.67167,\n",
       "           0.67267,     0.67367,     0.67467,     0.67568,     0.67668,     0.67768,     0.67868,     0.67968,     0.68068,     0.68168,     0.68268,     0.68368,     0.68468,     0.68569,     0.68669,     0.68769,     0.68869,     0.68969,     0.69069,     0.69169,     0.69269,     0.69369,     0.69469,      0.6957,\n",
       "            0.6967,      0.6977,      0.6987,      0.6997,      0.7007,      0.7017,      0.7027,      0.7037,      0.7047,     0.70571,     0.70671,     0.70771,     0.70871,     0.70971,     0.71071,     0.71171,     0.71271,     0.71371,     0.71471,     0.71572,     0.71672,     0.71772,     0.71872,     0.71972,\n",
       "           0.72072,     0.72172,     0.72272,     0.72372,     0.72472,     0.72573,     0.72673,     0.72773,     0.72873,     0.72973,     0.73073,     0.73173,     0.73273,     0.73373,     0.73473,     0.73574,     0.73674,     0.73774,     0.73874,     0.73974,     0.74074,     0.74174,     0.74274,     0.74374,\n",
       "           0.74474,     0.74575,     0.74675,     0.74775,     0.74875,     0.74975,     0.75075,     0.75175,     0.75275,     0.75375,     0.75475,     0.75576,     0.75676,     0.75776,     0.75876,     0.75976,     0.76076,     0.76176,     0.76276,     0.76376,     0.76476,     0.76577,     0.76677,     0.76777,\n",
       "           0.76877,     0.76977,     0.77077,     0.77177,     0.77277,     0.77377,     0.77477,     0.77578,     0.77678,     0.77778,     0.77878,     0.77978,     0.78078,     0.78178,     0.78278,     0.78378,     0.78478,     0.78579,     0.78679,     0.78779,     0.78879,     0.78979,     0.79079,     0.79179,\n",
       "           0.79279,     0.79379,     0.79479,      0.7958,      0.7968,      0.7978,      0.7988,      0.7998,      0.8008,      0.8018,      0.8028,      0.8038,      0.8048,     0.80581,     0.80681,     0.80781,     0.80881,     0.80981,     0.81081,     0.81181,     0.81281,     0.81381,     0.81481,     0.81582,\n",
       "           0.81682,     0.81782,     0.81882,     0.81982,     0.82082,     0.82182,     0.82282,     0.82382,     0.82482,     0.82583,     0.82683,     0.82783,     0.82883,     0.82983,     0.83083,     0.83183,     0.83283,     0.83383,     0.83483,     0.83584,     0.83684,     0.83784,     0.83884,     0.83984,\n",
       "           0.84084,     0.84184,     0.84284,     0.84384,     0.84484,     0.84585,     0.84685,     0.84785,     0.84885,     0.84985,     0.85085,     0.85185,     0.85285,     0.85385,     0.85485,     0.85586,     0.85686,     0.85786,     0.85886,     0.85986,     0.86086,     0.86186,     0.86286,     0.86386,\n",
       "           0.86486,     0.86587,     0.86687,     0.86787,     0.86887,     0.86987,     0.87087,     0.87187,     0.87287,     0.87387,     0.87487,     0.87588,     0.87688,     0.87788,     0.87888,     0.87988,     0.88088,     0.88188,     0.88288,     0.88388,     0.88488,     0.88589,     0.88689,     0.88789,\n",
       "           0.88889,     0.88989,     0.89089,     0.89189,     0.89289,     0.89389,     0.89489,      0.8959,      0.8969,      0.8979,      0.8989,      0.8999,      0.9009,      0.9019,      0.9029,      0.9039,      0.9049,     0.90591,     0.90691,     0.90791,     0.90891,     0.90991,     0.91091,     0.91191,\n",
       "           0.91291,     0.91391,     0.91491,     0.91592,     0.91692,     0.91792,     0.91892,     0.91992,     0.92092,     0.92192,     0.92292,     0.92392,     0.92492,     0.92593,     0.92693,     0.92793,     0.92893,     0.92993,     0.93093,     0.93193,     0.93293,     0.93393,     0.93493,     0.93594,\n",
       "           0.93694,     0.93794,     0.93894,     0.93994,     0.94094,     0.94194,     0.94294,     0.94394,     0.94494,     0.94595,     0.94695,     0.94795,     0.94895,     0.94995,     0.95095,     0.95195,     0.95295,     0.95395,     0.95495,     0.95596,     0.95696,     0.95796,     0.95896,     0.95996,\n",
       "           0.96096,     0.96196,     0.96296,     0.96396,     0.96496,     0.96597,     0.96697,     0.96797,     0.96897,     0.96997,     0.97097,     0.97197,     0.97297,     0.97397,     0.97497,     0.97598,     0.97698,     0.97798,     0.97898,     0.97998,     0.98098,     0.98198,     0.98298,     0.98398,\n",
       "           0.98498,     0.98599,     0.98699,     0.98799,     0.98899,     0.98999,     0.99099,     0.99199,     0.99299,     0.99399,     0.99499,       0.996,       0.997,       0.998,       0.999,           1]), array([[          1,           1,           1,           1,           1,           1,           1,           1,           1,           1,           1,           1,           1,           1,           1,           1,           1,           1,           1,           1,           1,           1,           1,\n",
       "                  1,           1,           1,           1,           1,           1,           1,           1,           1,           1,           1,           1,           1,           1,           1,           1,           1,           1,           1,           1,           1,           1,           1,\n",
       "                  1,           1,           1,           1,           1,           1,           1,           1,           1,           1,           1,           1,           1,           1,           1,           1,           1,           1,           1,           1,           1,           1,           1,\n",
       "                  1,           1,           1,           1,           1,           1,           1,           1,           1,           1,           1,           1,           1,           1,           1,           1,           1,           1,           1,           1,           1,           1,           1,\n",
       "                  1,           1,           1,           1,           1,           1,           1,           1,           1,           1,           1,           1,           1,           1,           1,           1,           1,           1,           1,           1,           1,           1,           1,\n",
       "                  1,           1,           1,           1,           1,           1,           1,           1,           1,           1,           1,           1,           1,           1,           1,           1,           1,           1,           1,           1,           1,           1,           1,\n",
       "                  1,           1,           1,           1,           1,           1,           1,           1,           1,           1,           1,           1,           1,           1,           1,           1,           1,           1,           1,           1,           1,           1,           1,\n",
       "                  1,           1,           1,           1,           1,           1,           1,           1,           1,           1,           1,           1,           1,           1,           1,           1,           1,           1,           1,           1,           1,           1,           1,\n",
       "                  1,           1,           1,           1,           1,           1,           1,           1,           1,           1,           1,           1,           1,           1,           1,           1,           1,           1,           1,           1,           1,           1,           1,\n",
       "                  1,           1,           1,           1,           1,           1,           1,           1,           1,           1,           1,           1,           1,           1,     0.98824,     0.98824,     0.98824,     0.98824,     0.98824,     0.98824,     0.98824,     0.98824,     0.98824,\n",
       "            0.98824,     0.98824,     0.98824,     0.98824,     0.98824,     0.98824,     0.98824,     0.98824,     0.98824,     0.98824,     0.98824,     0.98824,     0.98824,     0.98824,     0.98824,     0.98824,     0.98824,     0.98824,     0.98824,     0.98824,     0.98824,     0.98824,     0.98824,\n",
       "            0.98824,     0.98824,     0.98347,     0.98347,     0.98347,     0.98347,     0.98347,     0.98347,     0.98347,     0.98347,     0.98347,     0.98347,     0.98347,     0.98347,     0.98347,     0.98347,     0.98347,     0.98347,     0.98347,     0.98347,     0.98347,     0.98347,     0.98347,\n",
       "            0.98347,     0.98347,     0.98347,     0.98347,     0.98347,     0.98347,     0.98347,     0.98347,     0.98347,     0.98347,     0.98347,     0.98347,     0.98347,     0.98347,     0.98347,     0.98347,     0.98347,     0.98347,     0.98347,     0.98347,     0.98347,     0.98347,     0.98347,\n",
       "            0.98347,     0.98347,     0.98347,     0.98347,     0.98347,     0.98347,     0.98347,     0.98347,     0.98347,     0.98347,     0.98347,     0.98347,     0.98347,     0.98347,     0.98347,     0.98347,     0.98347,     0.98347,     0.98347,     0.98347,     0.98347,     0.98347,     0.98347,\n",
       "            0.98347,     0.98347,     0.98347,     0.98347,     0.98347,     0.98347,     0.98347,     0.98347,     0.98347,     0.98347,     0.98347,     0.98347,     0.98347,     0.98347,     0.98347,     0.98347,     0.98347,     0.98347,     0.98347,     0.98347,     0.98347,     0.98347,     0.98347,\n",
       "            0.98347,     0.98347,     0.98347,     0.98347,     0.98347,     0.98347,     0.98347,     0.98347,     0.98347,     0.98347,     0.98347,     0.98347,     0.98347,     0.98347,     0.98347,     0.98347,     0.97619,     0.97619,     0.97619,     0.97619,     0.97619,     0.97619,     0.97619,\n",
       "            0.97619,     0.97619,     0.97619,     0.97619,     0.97619,      0.9697,      0.9697,      0.9697,      0.9697,      0.9697,      0.9697,      0.9697,      0.9697,      0.9697,      0.9697,      0.9697,      0.9697,      0.9697,      0.9697,      0.9697,     0.96503,     0.96503,     0.96503,\n",
       "            0.96503,     0.96503,     0.96503,     0.96503,     0.96503,     0.96503,     0.96503,     0.96503,     0.96503,     0.96503,     0.96503,     0.96503,     0.96503,     0.96503,     0.96503,     0.96503,     0.96503,     0.96503,     0.96503,     0.96503,     0.96503,     0.96503,     0.96503,\n",
       "            0.96503,     0.96503,     0.96503,     0.96503,        0.96,        0.96,        0.96,        0.96,        0.96,        0.96,        0.96,        0.96,        0.96,        0.96,        0.96,        0.96,        0.96,        0.96,        0.96,        0.96,        0.96,        0.96,     0.94872,\n",
       "            0.94872,     0.94872,     0.94872,     0.94872,     0.94872,     0.94872,     0.94872,     0.94872,     0.94872,     0.94872,     0.94872,     0.94872,      0.9375,      0.9375,      0.9375,      0.9375,      0.9375,      0.9375,     0.93413,     0.93413,     0.93413,     0.93413,     0.93413,\n",
       "            0.93413,     0.93413,     0.93413,     0.93413,     0.93413,     0.93413,     0.93413,     0.93413,     0.93413,     0.93413,     0.93413,     0.93413,     0.93413,     0.91279,     0.91279,     0.91279,     0.90909,     0.90909,     0.90909,     0.90909,     0.90909,     0.90909,     0.90909,\n",
       "            0.90909,     0.90909,     0.90556,     0.90556,     0.90556,     0.90556,     0.90556,     0.90556,     0.90556,     0.90556,     0.90556,      0.9027,      0.9027,      0.9027,      0.9027,      0.9027,      0.9027,      0.9027,      0.9027,      0.9027,      0.9027,      0.9027,      0.9027,\n",
       "            0.90104,     0.90104,     0.90104,     0.90104,     0.90104,     0.90104,     0.90104,     0.90104,     0.90104,     0.90104,     0.90104,     0.90104,     0.90104,     0.90104,     0.90104,     0.90104,     0.90104,     0.90104,     0.89691,     0.89691,     0.89691,     0.88945,     0.88945,\n",
       "            0.88945,     0.88945,     0.88945,     0.88945,     0.88945,     0.88945,     0.88945,     0.88557,     0.88557,     0.88557,     0.88462,     0.88462,     0.88462,     0.88462,     0.88462,     0.88462,     0.88462,     0.88462,     0.88462,     0.88462,     0.88462,     0.88462,     0.88462,\n",
       "            0.88462,     0.88462,     0.88462,     0.88462,     0.88462,     0.88462,     0.88152,     0.88152,     0.88152,     0.88152,     0.88152,     0.88152,     0.87793,     0.87793,     0.87793,     0.86758,     0.86758,     0.86758,     0.86758,     0.86758,     0.86758,     0.86758,     0.86758,\n",
       "            0.86758,     0.86667,     0.86667,     0.86667,     0.86667,     0.86667,     0.86667,     0.86667,     0.86667,     0.86667,     0.86667,     0.86667,     0.86667,     0.86667,     0.86667,     0.86667,     0.85965,     0.85965,     0.85965,     0.85714,     0.85714,     0.85714,     0.85714,\n",
       "            0.85714,     0.85714,     0.85169,     0.85169,     0.85169,     0.85169,     0.85169,     0.85169,     0.85169,     0.85169,     0.85169,        0.85,        0.85,        0.85,        0.85,        0.85,        0.85,        0.85,        0.85,        0.85,     0.84959,     0.84959,     0.84959,\n",
       "            0.84959,     0.84959,     0.84959,     0.84959,     0.84959,     0.84959,     0.84959,     0.84959,     0.84959,     0.84959,     0.84959,     0.84959,     0.84677,     0.84677,     0.84677,     0.84127,     0.84127,     0.84127,     0.84127,     0.84127,     0.84127,     0.83858,     0.83858,\n",
       "            0.83858,     0.83594,     0.83594,     0.83594,     0.82375,     0.82375,     0.82375,     0.81818,     0.81818,     0.81818,     0.81579,     0.81579,     0.81579,     0.81413,     0.81413,     0.81413,     0.81413,     0.81413,     0.81413,     0.81181,     0.81181,     0.81181,     0.80797,\n",
       "            0.80797,     0.80797,     0.80797,     0.80797,     0.80797,     0.80797,     0.80797,     0.80797,     0.80797,     0.80576,     0.80576,     0.80576,     0.80282,     0.80282,     0.80282,     0.80282,     0.80282,     0.80282,     0.80282,     0.80282,     0.80282,     0.80282,     0.80282,\n",
       "            0.80282,     0.80139,     0.80139,     0.80139,     0.80139,     0.80139,     0.80139,     0.79381,     0.79381,     0.79381,     0.78644,     0.78644,     0.78644,     0.77667,     0.77667,     0.77667,     0.77377,     0.77377,     0.77377,     0.77377,     0.77377,     0.77377,     0.77377,\n",
       "            0.77377,     0.77377,     0.76774,     0.76774,     0.76774,     0.76774,     0.76774,     0.76774,     0.76115,     0.76115,     0.76115,     0.75472,     0.75472,     0.75472,     0.71091,     0.71091,     0.71091,     0.70145,     0.70145,     0.70145,     0.69828,     0.69828,     0.69828,\n",
       "            0.69382,     0.69382,     0.69382,     0.69382,     0.69382,     0.69382,     0.69382,     0.69382,     0.69382,     0.69382,     0.69382,     0.69382,     0.69081,     0.69081,     0.69081,     0.68785,     0.68785,     0.68785,     0.67751,     0.67751,     0.67751,     0.66053,     0.66053,\n",
       "            0.66053,     0.65455,     0.65455,     0.65455,     0.65375,     0.65375,     0.65375,     0.60766,     0.60766,     0.60766,     0.59719,     0.59719,     0.59719,     0.59535,     0.59535,     0.59535,     0.58409,     0.58409,     0.58409,     0.58409,     0.55603,     0.55603,     0.55603,\n",
       "            0.52953,     0.52953,     0.52953,     0.52953,     0.52953,     0.52953,     0.50096,     0.50096,     0.50096,     0.49527,     0.49527,     0.49527,     0.49343,     0.49343,     0.49343,     0.49162,     0.49162,     0.49162,     0.48188,     0.48188,     0.48188,     0.48188,     0.48188,\n",
       "            0.48188,     0.45719,     0.45719,     0.45719,     0.43577,     0.43577,     0.43577,      0.4003,      0.4003,      0.4003,     0.39971,     0.39971,     0.39971,     0.39971,     0.39971,     0.39971,     0.37989,     0.37989,     0.37989,     0.37864,     0.37864,     0.37864,     0.36828,\n",
       "            0.36828,     0.36828,      0.3628,      0.3628,      0.3628,      0.3565,      0.3565,      0.3565,      0.3565,      0.3565,      0.3565,     0.34024,     0.34024,     0.34024,     0.34024,     0.34024,     0.34024,     0.32864,     0.32864,     0.32864,     0.32005,     0.32005,     0.32005,\n",
       "            0.31229,     0.31229,     0.31229,     0.30703,     0.30703,     0.30703,     0.30703,     0.30703,     0.30703,     0.30095,     0.30095,     0.30095,     0.30074,     0.30074,     0.30074,     0.29927,     0.29927,     0.29927,     0.28887,     0.28887,     0.28887,     0.28884,     0.28884,\n",
       "            0.28884,     0.28884,     0.28884,     0.28884,     0.26722,     0.26722,     0.26722,      0.2657,      0.2657,      0.2657,     0.25172,     0.25172,     0.25172,     0.24138,     0.24138,     0.24138,     0.24138,      0.2321,      0.2321,      0.2321,     0.20513,     0.20513,     0.20513,\n",
       "             0.1976,      0.1976,      0.1976,     0.18945,     0.18945,     0.18945,     0.18852,     0.18852,     0.18852,     0.18668,     0.18668,     0.18668,     0.17102,     0.17102,     0.17102,      0.1628,      0.1628,      0.1628,     0.12388,     0.12388,     0.12388,     0.10908,     0.10908,\n",
       "            0.10908,    0.096184,    0.096184,    0.096184,    0.090586,    0.090586,    0.090586,    0.086748,    0.086748,    0.086748,    0.081696,    0.080512,    0.079328,    0.078144,     0.07696,    0.075776,    0.074592,    0.073408,    0.072224,     0.07104,    0.069856,    0.068672,    0.067488,\n",
       "           0.066304,     0.06512,    0.063936,    0.062752,    0.061568,    0.060384,      0.0592,    0.058016,    0.056832,    0.055648,    0.054464,     0.05328,    0.052096,    0.050912,    0.049728,    0.048544,     0.04736,    0.046176,    0.044992,    0.043808,    0.042624,     0.04144,    0.040256,\n",
       "           0.039072,    0.037888,    0.036704,     0.03552,    0.034336,    0.033152,    0.031968,    0.030784,      0.0296,    0.028416,    0.027232,    0.026048,    0.024864,     0.02368,    0.022496,    0.021312,    0.020128,    0.018944,     0.01776,    0.016576,    0.015392,    0.014208,    0.013024,\n",
       "            0.01184,    0.010656,   0.0094719,    0.008288,    0.007104,     0.00592,    0.004736,    0.003552,    0.002368,    0.001184,           0]]), 'Recall', 'Precision'], [array([          0,    0.001001,    0.002002,    0.003003,    0.004004,    0.005005,    0.006006,    0.007007,    0.008008,    0.009009,     0.01001,    0.011011,    0.012012,    0.013013,    0.014014,    0.015015,    0.016016,    0.017017,    0.018018,    0.019019,     0.02002,    0.021021,    0.022022,    0.023023,\n",
       "          0.024024,    0.025025,    0.026026,    0.027027,    0.028028,    0.029029,     0.03003,    0.031031,    0.032032,    0.033033,    0.034034,    0.035035,    0.036036,    0.037037,    0.038038,    0.039039,     0.04004,    0.041041,    0.042042,    0.043043,    0.044044,    0.045045,    0.046046,    0.047047,\n",
       "          0.048048,    0.049049,     0.05005,    0.051051,    0.052052,    0.053053,    0.054054,    0.055055,    0.056056,    0.057057,    0.058058,    0.059059,     0.06006,    0.061061,    0.062062,    0.063063,    0.064064,    0.065065,    0.066066,    0.067067,    0.068068,    0.069069,     0.07007,    0.071071,\n",
       "          0.072072,    0.073073,    0.074074,    0.075075,    0.076076,    0.077077,    0.078078,    0.079079,     0.08008,    0.081081,    0.082082,    0.083083,    0.084084,    0.085085,    0.086086,    0.087087,    0.088088,    0.089089,     0.09009,    0.091091,    0.092092,    0.093093,    0.094094,    0.095095,\n",
       "          0.096096,    0.097097,    0.098098,    0.099099,      0.1001,      0.1011,      0.1021,      0.1031,      0.1041,     0.10511,     0.10611,     0.10711,     0.10811,     0.10911,     0.11011,     0.11111,     0.11211,     0.11311,     0.11411,     0.11512,     0.11612,     0.11712,     0.11812,     0.11912,\n",
       "           0.12012,     0.12112,     0.12212,     0.12312,     0.12412,     0.12513,     0.12613,     0.12713,     0.12813,     0.12913,     0.13013,     0.13113,     0.13213,     0.13313,     0.13413,     0.13514,     0.13614,     0.13714,     0.13814,     0.13914,     0.14014,     0.14114,     0.14214,     0.14314,\n",
       "           0.14414,     0.14515,     0.14615,     0.14715,     0.14815,     0.14915,     0.15015,     0.15115,     0.15215,     0.15315,     0.15415,     0.15516,     0.15616,     0.15716,     0.15816,     0.15916,     0.16016,     0.16116,     0.16216,     0.16316,     0.16416,     0.16517,     0.16617,     0.16717,\n",
       "           0.16817,     0.16917,     0.17017,     0.17117,     0.17217,     0.17317,     0.17417,     0.17518,     0.17618,     0.17718,     0.17818,     0.17918,     0.18018,     0.18118,     0.18218,     0.18318,     0.18418,     0.18519,     0.18619,     0.18719,     0.18819,     0.18919,     0.19019,     0.19119,\n",
       "           0.19219,     0.19319,     0.19419,      0.1952,      0.1962,      0.1972,      0.1982,      0.1992,      0.2002,      0.2012,      0.2022,      0.2032,      0.2042,     0.20521,     0.20621,     0.20721,     0.20821,     0.20921,     0.21021,     0.21121,     0.21221,     0.21321,     0.21421,     0.21522,\n",
       "           0.21622,     0.21722,     0.21822,     0.21922,     0.22022,     0.22122,     0.22222,     0.22322,     0.22422,     0.22523,     0.22623,     0.22723,     0.22823,     0.22923,     0.23023,     0.23123,     0.23223,     0.23323,     0.23423,     0.23524,     0.23624,     0.23724,     0.23824,     0.23924,\n",
       "           0.24024,     0.24124,     0.24224,     0.24324,     0.24424,     0.24525,     0.24625,     0.24725,     0.24825,     0.24925,     0.25025,     0.25125,     0.25225,     0.25325,     0.25425,     0.25526,     0.25626,     0.25726,     0.25826,     0.25926,     0.26026,     0.26126,     0.26226,     0.26326,\n",
       "           0.26426,     0.26527,     0.26627,     0.26727,     0.26827,     0.26927,     0.27027,     0.27127,     0.27227,     0.27327,     0.27427,     0.27528,     0.27628,     0.27728,     0.27828,     0.27928,     0.28028,     0.28128,     0.28228,     0.28328,     0.28428,     0.28529,     0.28629,     0.28729,\n",
       "           0.28829,     0.28929,     0.29029,     0.29129,     0.29229,     0.29329,     0.29429,      0.2953,      0.2963,      0.2973,      0.2983,      0.2993,      0.3003,      0.3013,      0.3023,      0.3033,      0.3043,     0.30531,     0.30631,     0.30731,     0.30831,     0.30931,     0.31031,     0.31131,\n",
       "           0.31231,     0.31331,     0.31431,     0.31532,     0.31632,     0.31732,     0.31832,     0.31932,     0.32032,     0.32132,     0.32232,     0.32332,     0.32432,     0.32533,     0.32633,     0.32733,     0.32833,     0.32933,     0.33033,     0.33133,     0.33233,     0.33333,     0.33433,     0.33534,\n",
       "           0.33634,     0.33734,     0.33834,     0.33934,     0.34034,     0.34134,     0.34234,     0.34334,     0.34434,     0.34535,     0.34635,     0.34735,     0.34835,     0.34935,     0.35035,     0.35135,     0.35235,     0.35335,     0.35435,     0.35536,     0.35636,     0.35736,     0.35836,     0.35936,\n",
       "           0.36036,     0.36136,     0.36236,     0.36336,     0.36436,     0.36537,     0.36637,     0.36737,     0.36837,     0.36937,     0.37037,     0.37137,     0.37237,     0.37337,     0.37437,     0.37538,     0.37638,     0.37738,     0.37838,     0.37938,     0.38038,     0.38138,     0.38238,     0.38338,\n",
       "           0.38438,     0.38539,     0.38639,     0.38739,     0.38839,     0.38939,     0.39039,     0.39139,     0.39239,     0.39339,     0.39439,      0.3954,      0.3964,      0.3974,      0.3984,      0.3994,      0.4004,      0.4014,      0.4024,      0.4034,      0.4044,     0.40541,     0.40641,     0.40741,\n",
       "           0.40841,     0.40941,     0.41041,     0.41141,     0.41241,     0.41341,     0.41441,     0.41542,     0.41642,     0.41742,     0.41842,     0.41942,     0.42042,     0.42142,     0.42242,     0.42342,     0.42442,     0.42543,     0.42643,     0.42743,     0.42843,     0.42943,     0.43043,     0.43143,\n",
       "           0.43243,     0.43343,     0.43443,     0.43544,     0.43644,     0.43744,     0.43844,     0.43944,     0.44044,     0.44144,     0.44244,     0.44344,     0.44444,     0.44545,     0.44645,     0.44745,     0.44845,     0.44945,     0.45045,     0.45145,     0.45245,     0.45345,     0.45445,     0.45546,\n",
       "           0.45646,     0.45746,     0.45846,     0.45946,     0.46046,     0.46146,     0.46246,     0.46346,     0.46446,     0.46547,     0.46647,     0.46747,     0.46847,     0.46947,     0.47047,     0.47147,     0.47247,     0.47347,     0.47447,     0.47548,     0.47648,     0.47748,     0.47848,     0.47948,\n",
       "           0.48048,     0.48148,     0.48248,     0.48348,     0.48448,     0.48549,     0.48649,     0.48749,     0.48849,     0.48949,     0.49049,     0.49149,     0.49249,     0.49349,     0.49449,      0.4955,      0.4965,      0.4975,      0.4985,      0.4995,      0.5005,      0.5015,      0.5025,      0.5035,\n",
       "            0.5045,     0.50551,     0.50651,     0.50751,     0.50851,     0.50951,     0.51051,     0.51151,     0.51251,     0.51351,     0.51451,     0.51552,     0.51652,     0.51752,     0.51852,     0.51952,     0.52052,     0.52152,     0.52252,     0.52352,     0.52452,     0.52553,     0.52653,     0.52753,\n",
       "           0.52853,     0.52953,     0.53053,     0.53153,     0.53253,     0.53353,     0.53453,     0.53554,     0.53654,     0.53754,     0.53854,     0.53954,     0.54054,     0.54154,     0.54254,     0.54354,     0.54454,     0.54555,     0.54655,     0.54755,     0.54855,     0.54955,     0.55055,     0.55155,\n",
       "           0.55255,     0.55355,     0.55455,     0.55556,     0.55656,     0.55756,     0.55856,     0.55956,     0.56056,     0.56156,     0.56256,     0.56356,     0.56456,     0.56557,     0.56657,     0.56757,     0.56857,     0.56957,     0.57057,     0.57157,     0.57257,     0.57357,     0.57457,     0.57558,\n",
       "           0.57658,     0.57758,     0.57858,     0.57958,     0.58058,     0.58158,     0.58258,     0.58358,     0.58458,     0.58559,     0.58659,     0.58759,     0.58859,     0.58959,     0.59059,     0.59159,     0.59259,     0.59359,     0.59459,      0.5956,      0.5966,      0.5976,      0.5986,      0.5996,\n",
       "            0.6006,      0.6016,      0.6026,      0.6036,      0.6046,     0.60561,     0.60661,     0.60761,     0.60861,     0.60961,     0.61061,     0.61161,     0.61261,     0.61361,     0.61461,     0.61562,     0.61662,     0.61762,     0.61862,     0.61962,     0.62062,     0.62162,     0.62262,     0.62362,\n",
       "           0.62462,     0.62563,     0.62663,     0.62763,     0.62863,     0.62963,     0.63063,     0.63163,     0.63263,     0.63363,     0.63463,     0.63564,     0.63664,     0.63764,     0.63864,     0.63964,     0.64064,     0.64164,     0.64264,     0.64364,     0.64464,     0.64565,     0.64665,     0.64765,\n",
       "           0.64865,     0.64965,     0.65065,     0.65165,     0.65265,     0.65365,     0.65465,     0.65566,     0.65666,     0.65766,     0.65866,     0.65966,     0.66066,     0.66166,     0.66266,     0.66366,     0.66466,     0.66567,     0.66667,     0.66767,     0.66867,     0.66967,     0.67067,     0.67167,\n",
       "           0.67267,     0.67367,     0.67467,     0.67568,     0.67668,     0.67768,     0.67868,     0.67968,     0.68068,     0.68168,     0.68268,     0.68368,     0.68468,     0.68569,     0.68669,     0.68769,     0.68869,     0.68969,     0.69069,     0.69169,     0.69269,     0.69369,     0.69469,      0.6957,\n",
       "            0.6967,      0.6977,      0.6987,      0.6997,      0.7007,      0.7017,      0.7027,      0.7037,      0.7047,     0.70571,     0.70671,     0.70771,     0.70871,     0.70971,     0.71071,     0.71171,     0.71271,     0.71371,     0.71471,     0.71572,     0.71672,     0.71772,     0.71872,     0.71972,\n",
       "           0.72072,     0.72172,     0.72272,     0.72372,     0.72472,     0.72573,     0.72673,     0.72773,     0.72873,     0.72973,     0.73073,     0.73173,     0.73273,     0.73373,     0.73473,     0.73574,     0.73674,     0.73774,     0.73874,     0.73974,     0.74074,     0.74174,     0.74274,     0.74374,\n",
       "           0.74474,     0.74575,     0.74675,     0.74775,     0.74875,     0.74975,     0.75075,     0.75175,     0.75275,     0.75375,     0.75475,     0.75576,     0.75676,     0.75776,     0.75876,     0.75976,     0.76076,     0.76176,     0.76276,     0.76376,     0.76476,     0.76577,     0.76677,     0.76777,\n",
       "           0.76877,     0.76977,     0.77077,     0.77177,     0.77277,     0.77377,     0.77477,     0.77578,     0.77678,     0.77778,     0.77878,     0.77978,     0.78078,     0.78178,     0.78278,     0.78378,     0.78478,     0.78579,     0.78679,     0.78779,     0.78879,     0.78979,     0.79079,     0.79179,\n",
       "           0.79279,     0.79379,     0.79479,      0.7958,      0.7968,      0.7978,      0.7988,      0.7998,      0.8008,      0.8018,      0.8028,      0.8038,      0.8048,     0.80581,     0.80681,     0.80781,     0.80881,     0.80981,     0.81081,     0.81181,     0.81281,     0.81381,     0.81481,     0.81582,\n",
       "           0.81682,     0.81782,     0.81882,     0.81982,     0.82082,     0.82182,     0.82282,     0.82382,     0.82482,     0.82583,     0.82683,     0.82783,     0.82883,     0.82983,     0.83083,     0.83183,     0.83283,     0.83383,     0.83483,     0.83584,     0.83684,     0.83784,     0.83884,     0.83984,\n",
       "           0.84084,     0.84184,     0.84284,     0.84384,     0.84484,     0.84585,     0.84685,     0.84785,     0.84885,     0.84985,     0.85085,     0.85185,     0.85285,     0.85385,     0.85485,     0.85586,     0.85686,     0.85786,     0.85886,     0.85986,     0.86086,     0.86186,     0.86286,     0.86386,\n",
       "           0.86486,     0.86587,     0.86687,     0.86787,     0.86887,     0.86987,     0.87087,     0.87187,     0.87287,     0.87387,     0.87487,     0.87588,     0.87688,     0.87788,     0.87888,     0.87988,     0.88088,     0.88188,     0.88288,     0.88388,     0.88488,     0.88589,     0.88689,     0.88789,\n",
       "           0.88889,     0.88989,     0.89089,     0.89189,     0.89289,     0.89389,     0.89489,      0.8959,      0.8969,      0.8979,      0.8989,      0.8999,      0.9009,      0.9019,      0.9029,      0.9039,      0.9049,     0.90591,     0.90691,     0.90791,     0.90891,     0.90991,     0.91091,     0.91191,\n",
       "           0.91291,     0.91391,     0.91491,     0.91592,     0.91692,     0.91792,     0.91892,     0.91992,     0.92092,     0.92192,     0.92292,     0.92392,     0.92492,     0.92593,     0.92693,     0.92793,     0.92893,     0.92993,     0.93093,     0.93193,     0.93293,     0.93393,     0.93493,     0.93594,\n",
       "           0.93694,     0.93794,     0.93894,     0.93994,     0.94094,     0.94194,     0.94294,     0.94394,     0.94494,     0.94595,     0.94695,     0.94795,     0.94895,     0.94995,     0.95095,     0.95195,     0.95295,     0.95395,     0.95495,     0.95596,     0.95696,     0.95796,     0.95896,     0.95996,\n",
       "           0.96096,     0.96196,     0.96296,     0.96396,     0.96496,     0.96597,     0.96697,     0.96797,     0.96897,     0.96997,     0.97097,     0.97197,     0.97297,     0.97397,     0.97497,     0.97598,     0.97698,     0.97798,     0.97898,     0.97998,     0.98098,     0.98198,     0.98298,     0.98398,\n",
       "           0.98498,     0.98599,     0.98699,     0.98799,     0.98899,     0.98999,     0.99099,     0.99199,     0.99299,     0.99399,     0.99499,       0.996,       0.997,       0.998,       0.999,           1]), array([[    0.15146,     0.15163,     0.22149,     0.26614,     0.29789,     0.32052,     0.34087,     0.35897,     0.37648,     0.38785,     0.40226,     0.41388,     0.42465,     0.43366,     0.44012,      0.4453,     0.44885,      0.4516,     0.45683,     0.46199,     0.46545,     0.47396,      0.4807,\n",
       "            0.48426,     0.48823,     0.49267,     0.49738,     0.49922,     0.49899,     0.50383,     0.50567,     0.50952,     0.51542,     0.51908,     0.52109,     0.52511,     0.53198,     0.53618,     0.53529,     0.53903,     0.54054,     0.54323,     0.54621,     0.54982,     0.55271,     0.55527,\n",
       "            0.55741,     0.55852,     0.56223,     0.56541,     0.56672,     0.56603,     0.56708,     0.56856,     0.57273,     0.57412,     0.57532,     0.57806,     0.58013,     0.58212,     0.58395,     0.58591,     0.58868,     0.59077,      0.5936,     0.59484,      0.5963,     0.59903,      0.6013,\n",
       "            0.60211,     0.60135,     0.60074,     0.60164,     0.60379,     0.60473,     0.60714,     0.60895,     0.60894,      0.6086,      0.6093,     0.60934,     0.61132,     0.61189,     0.61312,     0.61248,     0.61505,     0.61763,     0.61837,     0.62052,     0.62289,     0.62325,     0.62432,\n",
       "            0.62465,     0.62498,     0.62568,     0.62649,     0.62709,     0.62971,     0.63037,     0.63062,     0.63088,       0.632,     0.63212,     0.63024,     0.63117,     0.63263,     0.63347,     0.63415,     0.63443,     0.63474,     0.63546,     0.63816,     0.63971,     0.64077,     0.64383,\n",
       "            0.64505,     0.64536,     0.64566,     0.64603,     0.64644,      0.6469,      0.6474,     0.64891,     0.64948,     0.64841,     0.64894,     0.64978,     0.65023,     0.65192,     0.65262,     0.65296,      0.6539,     0.65548,     0.65708,      0.6592,     0.66072,       0.661,     0.66127,\n",
       "            0.66206,      0.6631,     0.66352,     0.66388,     0.66435,     0.66553,     0.66703,     0.66743,     0.66673,     0.66607,     0.66876,     0.66973,     0.67106,     0.67267,     0.67212,     0.67239,     0.67266,     0.67279,     0.67249,     0.67424,     0.67478,     0.67498,     0.67517,\n",
       "            0.67536,     0.67566,     0.67657,       0.677,     0.67746,     0.67809,     0.67876,     0.67818,      0.6776,     0.67775,     0.67923,     0.67965,     0.68006,     0.68028,     0.68048,     0.68067,     0.68087,     0.68121,     0.68289,      0.6831,     0.68332,     0.68354,     0.68376,\n",
       "            0.68602,     0.68807,     0.69002,     0.69147,     0.69219,     0.69257,     0.69294,     0.69328,     0.69357,     0.69386,     0.69415,      0.6944,     0.69466,     0.69491,     0.69517,     0.69543,     0.69569,     0.69595,     0.69665,      0.6973,     0.69783,     0.69832,     0.69879,\n",
       "            0.69949,     0.70102,     0.70142,     0.70183,     0.70309,     0.70453,      0.7053,     0.70461,     0.70445,      0.7051,     0.70539,     0.70568,     0.70597,     0.70636,     0.70678,     0.70678,     0.70613,     0.70547,     0.70709,     0.70763,     0.70809,     0.70928,      0.7095,\n",
       "            0.70972,     0.70994,     0.71016,     0.71074,     0.71199,     0.71252,     0.71283,     0.71313,     0.71337,     0.71354,     0.71372,     0.71389,     0.71407,     0.71424,     0.71369,     0.71492,     0.71556,     0.71581,     0.71605,      0.7163,     0.71654,     0.71674,     0.71693,\n",
       "            0.71712,     0.71731,      0.7175,     0.71815,      0.7189,     0.71793,     0.71836,      0.7188,     0.71936,     0.71839,     0.71924,     0.71962,        0.72,     0.71808,     0.71781,     0.71754,     0.71727,       0.717,     0.71673,     0.71646,     0.71447,     0.71327,       0.713,\n",
       "            0.71382,     0.71452,     0.71616,     0.71623,     0.71532,     0.71508,     0.71537,     0.71565,     0.71594,     0.71644,     0.71696,     0.71514,     0.71524,     0.71535,     0.71546,     0.71557,     0.71568,     0.71579,      0.7159,     0.71601,     0.71612,     0.71728,     0.71768,\n",
       "            0.71808,     0.71976,     0.71969,      0.7187,      0.7203,     0.72111,     0.72185,     0.72216,     0.72247,     0.72277,     0.72617,     0.72685,      0.7274,     0.72775,      0.7281,      0.7285,     0.72908,     0.72971,     0.73047,     0.73175,     0.73203,     0.73231,     0.73259,\n",
       "            0.73285,     0.73302,     0.73319,     0.73336,     0.73353,     0.73371,     0.73388,      0.7341,     0.73435,      0.7346,     0.73485,     0.73559,     0.73749,     0.73771,     0.73793,     0.73814,     0.73836,      0.7392,     0.74039,     0.73965,     0.73891,     0.73907,     0.73939,\n",
       "            0.73971,     0.74004,     0.74036,     0.74068,       0.741,     0.74156,      0.7422,     0.74028,     0.74101,     0.74259,     0.74291,     0.74324,     0.74356,     0.74274,     0.74139,     0.74075,     0.74011,     0.74137,     0.74225,     0.74265,     0.74305,     0.74311,     0.74258,\n",
       "            0.74204,     0.74151,     0.74015,     0.73739,     0.73751,     0.73764,     0.73777,      0.7379,     0.73802,     0.73815,     0.73828,      0.7384,     0.73862,      0.7393,     0.73864,     0.73825,     0.73922,     0.74006,     0.74017,     0.74029,     0.74041,     0.74053,     0.74064,\n",
       "            0.74076,     0.74088,       0.741,     0.74112,     0.74125,     0.74148,     0.74171,     0.74193,     0.74216,     0.74239,     0.74205,     0.74169,     0.74132,     0.74095,     0.74058,     0.74047,     0.74066,     0.74084,     0.74103,     0.74121,     0.74139,     0.74162,     0.74294,\n",
       "            0.74345,     0.74396,     0.74269,     0.74226,     0.74304,     0.74356,     0.74404,     0.74436,     0.74442,     0.74447,     0.74453,     0.74459,     0.74465,      0.7447,     0.74476,     0.74482,     0.74488,     0.74493,     0.74499,     0.74505,     0.74511,     0.74516,     0.74522,\n",
       "            0.74528,     0.74534,     0.74539,     0.74545,     0.74551,     0.74535,     0.74489,     0.74443,     0.74397,     0.74351,     0.74322,     0.74292,     0.74263,     0.74234,     0.74205,     0.74176,     0.74146,     0.74169,     0.74192,     0.74215,     0.74237,      0.7426,     0.74222,\n",
       "            0.74157,     0.74092,     0.74045,     0.74012,      0.7398,     0.73947,     0.73915,     0.73882,     0.73799,     0.73625,     0.73575,     0.73524,     0.73474,      0.7355,     0.73584,     0.73606,     0.73628,      0.7365,     0.73672,     0.73525,     0.73562,     0.73474,     0.73358,\n",
       "            0.73106,     0.73013,     0.72988,     0.73026,     0.73064,     0.73127,     0.73198,     0.73153,     0.73107,     0.73062,     0.73016,     0.73052,      0.7311,     0.73026,     0.72942,     0.72855,     0.72766,     0.72705,     0.72742,      0.7278,     0.72817,     0.72639,     0.72699,\n",
       "            0.72658,     0.72528,     0.72642,     0.72665,     0.72688,     0.72711,     0.72733,     0.72756,     0.72576,     0.72575,     0.72614,     0.72653,     0.72675,     0.72689,     0.72703,     0.72717,      0.7273,     0.72744,     0.72758,     0.72772,     0.72786,     0.72809,     0.72834,\n",
       "             0.7286,     0.72886,     0.72912,     0.72929,     0.72946,     0.72962,     0.72979,     0.72996,     0.73013,     0.73029,     0.73016,     0.72973,     0.72931,     0.72889,     0.72846,     0.72829,     0.72852,     0.72874,     0.72897,     0.72919,     0.72942,     0.72926,     0.72903,\n",
       "             0.7288,     0.72858,     0.72835,     0.72812,     0.72789,     0.72766,     0.72744,     0.72753,     0.72845,     0.72452,      0.7255,     0.72663,     0.72622,     0.72579,     0.72536,     0.72493,      0.7245,     0.72567,     0.72537,     0.72507,     0.72477,     0.72447,     0.72417,\n",
       "            0.72387,     0.72357,     0.72329,     0.72301,     0.72273,     0.72245,     0.72218,      0.7219,     0.72162,     0.72134,     0.72029,     0.71891,     0.71761,     0.71527,     0.71463,     0.71475,     0.71487,     0.71499,     0.71511,     0.71523,     0.71535,     0.71546,     0.71558,\n",
       "             0.7157,     0.71562,     0.71497,     0.71432,     0.71367,     0.71334,      0.7131,     0.71285,     0.71261,     0.71236,     0.71212,     0.71187,     0.71163,     0.71138,     0.71081,     0.70995,     0.70909,     0.70924,     0.70952,      0.7098,     0.71008,     0.70944,     0.70773,\n",
       "            0.70697,     0.70621,     0.70522,     0.70369,       0.704,     0.70474,     0.70529,     0.70585,     0.70556,     0.70521,     0.70486,     0.70451,     0.70416,     0.70381,     0.70334,     0.70256,     0.70179,     0.70133,     0.70158,     0.70182,     0.70207,     0.70232,     0.70237,\n",
       "            0.70177,     0.70116,     0.70056,     0.70053,     0.70148,     0.70268,     0.70223,     0.70175,     0.70127,     0.70079,     0.70031,     0.69976,     0.69922,     0.69867,     0.69813,      0.6977,      0.6973,      0.6969,      0.6965,     0.69609,     0.69569,     0.69536,     0.69504,\n",
       "            0.69472,      0.6944,     0.69408,     0.69376,     0.69344,     0.69306,     0.69264,     0.69223,     0.69181,     0.69139,     0.69097,     0.68879,     0.68734,     0.68689,     0.68643,     0.68597,     0.68551,     0.68505,     0.68795,     0.68638,     0.68675,     0.68712,     0.68749,\n",
       "            0.68699,     0.68602,     0.68504,     0.68403,     0.68301,     0.68311,      0.6836,     0.68379,     0.68239,      0.6797,     0.67794,     0.67658,     0.67445,     0.67323,     0.67216,     0.67146,     0.67108,      0.6707,     0.67032,     0.66994,     0.66955,     0.66918,     0.66967,\n",
       "            0.67016,      0.6699,     0.66872,     0.66864,     0.66663,     0.66599,     0.66536,     0.66473,      0.6616,     0.66191,     0.66222,     0.66253,     0.66283,     0.66333,     0.66384,      0.6637,     0.66277,     0.66183,      0.6624,     0.66242,     0.66175,     0.66108,      0.6604,\n",
       "            0.65981,     0.65924,     0.65868,     0.65811,     0.65456,     0.65128,     0.64951,     0.64896,      0.6484,     0.64785,      0.6473,     0.64759,      0.6479,     0.64821,     0.64852,     0.64504,     0.64398,     0.64055,     0.63984,     0.63913,     0.63842,     0.63806,     0.63833,\n",
       "            0.63859,     0.63886,     0.63912,     0.63808,     0.63628,     0.63404,     0.63159,     0.63211,     0.63101,      0.6299,     0.62873,     0.62754,     0.62436,     0.62368,     0.62531,     0.62566,       0.626,     0.62635,     0.62764,     0.62635,     0.62505,     0.62255,     0.61841,\n",
       "            0.61371,      0.6114,     0.61216,     0.60784,     0.60705,      0.6079,     0.60879,     0.60661,     0.60505,     0.60375,     0.59982,     0.59839,     0.59791,     0.59042,     0.58897,     0.58743,      0.5858,     0.58365,     0.58277,     0.58173,     0.57109,     0.56662,     0.56479,\n",
       "            0.56289,      0.5604,     0.55783,     0.55452,     0.55324,     0.55367,      0.5541,     0.55341,     0.55269,     0.55196,     0.55124,     0.54141,     0.54001,     0.53862,     0.53911,     0.53804,     0.53604,     0.53482,      0.5336,     0.53254,     0.53161,     0.53068,     0.52966,\n",
       "            0.52738,     0.52335,     0.52062,     0.51795,     0.51483,     0.51367,     0.51272,     0.51176,     0.50709,     0.50055,      0.4955,     0.49239,     0.48556,     0.48269,     0.48115,     0.47659,     0.47523,     0.47386,     0.46847,     0.46621,     0.46487,     0.46352,     0.46052,\n",
       "            0.45341,     0.44716,     0.44184,     0.43941,     0.43716,     0.43423,     0.42978,     0.42676,     0.41416,     0.40422,     0.40177,     0.39096,     0.38393,     0.38206,     0.37323,     0.37104,     0.36707,     0.36154,     0.35552,     0.35172,     0.34595,     0.34403,     0.34217,\n",
       "            0.33286,     0.33081,     0.32625,     0.32048,     0.31877,     0.31706,      0.3097,     0.29013,     0.28634,     0.27614,     0.27437,      0.2726,     0.26748,     0.25314,     0.25184,     0.25054,      0.2479,      0.2301,     0.22669,     0.21982,     0.21646,     0.20921,       0.203,\n",
       "            0.19906,     0.19312,     0.18433,     0.18017,     0.17552,     0.17365,     0.17177,     0.16478,     0.16037,     0.15799,     0.15151,     0.14621,     0.12394,     0.11369,     0.10796,     0.10482,     0.10125,    0.097087,    0.088907,    0.083047,    0.075945,     0.06655,    0.061273,\n",
       "           0.056693,    0.052192,    0.047997,     0.04408,    0.040734,    0.038385,     0.03603,    0.026931,    0.023815,    0.022779,    0.021742,    0.020704,    0.019664,    0.018624,    0.011899,    0.011391,    0.010882,    0.010374,   0.0098647,   0.0093555,   0.0088461,   0.0083364,   0.0078264,\n",
       "          0.0073162,   0.0068057,   0.0062949,           0,           0,           0,           0,           0,           0,           0,           0,           0,           0,           0,           0,           0,           0,           0,           0,           0,           0,           0,           0,\n",
       "                  0,           0,           0,           0,           0,           0,           0,           0,           0,           0,           0,           0,           0,           0,           0,           0,           0,           0,           0,           0,           0,           0,           0,\n",
       "                  0,           0,           0,           0,           0,           0,           0,           0,           0,           0,           0]]), 'Confidence', 'F1'], [array([          0,    0.001001,    0.002002,    0.003003,    0.004004,    0.005005,    0.006006,    0.007007,    0.008008,    0.009009,     0.01001,    0.011011,    0.012012,    0.013013,    0.014014,    0.015015,    0.016016,    0.017017,    0.018018,    0.019019,     0.02002,    0.021021,    0.022022,    0.023023,\n",
       "          0.024024,    0.025025,    0.026026,    0.027027,    0.028028,    0.029029,     0.03003,    0.031031,    0.032032,    0.033033,    0.034034,    0.035035,    0.036036,    0.037037,    0.038038,    0.039039,     0.04004,    0.041041,    0.042042,    0.043043,    0.044044,    0.045045,    0.046046,    0.047047,\n",
       "          0.048048,    0.049049,     0.05005,    0.051051,    0.052052,    0.053053,    0.054054,    0.055055,    0.056056,    0.057057,    0.058058,    0.059059,     0.06006,    0.061061,    0.062062,    0.063063,    0.064064,    0.065065,    0.066066,    0.067067,    0.068068,    0.069069,     0.07007,    0.071071,\n",
       "          0.072072,    0.073073,    0.074074,    0.075075,    0.076076,    0.077077,    0.078078,    0.079079,     0.08008,    0.081081,    0.082082,    0.083083,    0.084084,    0.085085,    0.086086,    0.087087,    0.088088,    0.089089,     0.09009,    0.091091,    0.092092,    0.093093,    0.094094,    0.095095,\n",
       "          0.096096,    0.097097,    0.098098,    0.099099,      0.1001,      0.1011,      0.1021,      0.1031,      0.1041,     0.10511,     0.10611,     0.10711,     0.10811,     0.10911,     0.11011,     0.11111,     0.11211,     0.11311,     0.11411,     0.11512,     0.11612,     0.11712,     0.11812,     0.11912,\n",
       "           0.12012,     0.12112,     0.12212,     0.12312,     0.12412,     0.12513,     0.12613,     0.12713,     0.12813,     0.12913,     0.13013,     0.13113,     0.13213,     0.13313,     0.13413,     0.13514,     0.13614,     0.13714,     0.13814,     0.13914,     0.14014,     0.14114,     0.14214,     0.14314,\n",
       "           0.14414,     0.14515,     0.14615,     0.14715,     0.14815,     0.14915,     0.15015,     0.15115,     0.15215,     0.15315,     0.15415,     0.15516,     0.15616,     0.15716,     0.15816,     0.15916,     0.16016,     0.16116,     0.16216,     0.16316,     0.16416,     0.16517,     0.16617,     0.16717,\n",
       "           0.16817,     0.16917,     0.17017,     0.17117,     0.17217,     0.17317,     0.17417,     0.17518,     0.17618,     0.17718,     0.17818,     0.17918,     0.18018,     0.18118,     0.18218,     0.18318,     0.18418,     0.18519,     0.18619,     0.18719,     0.18819,     0.18919,     0.19019,     0.19119,\n",
       "           0.19219,     0.19319,     0.19419,      0.1952,      0.1962,      0.1972,      0.1982,      0.1992,      0.2002,      0.2012,      0.2022,      0.2032,      0.2042,     0.20521,     0.20621,     0.20721,     0.20821,     0.20921,     0.21021,     0.21121,     0.21221,     0.21321,     0.21421,     0.21522,\n",
       "           0.21622,     0.21722,     0.21822,     0.21922,     0.22022,     0.22122,     0.22222,     0.22322,     0.22422,     0.22523,     0.22623,     0.22723,     0.22823,     0.22923,     0.23023,     0.23123,     0.23223,     0.23323,     0.23423,     0.23524,     0.23624,     0.23724,     0.23824,     0.23924,\n",
       "           0.24024,     0.24124,     0.24224,     0.24324,     0.24424,     0.24525,     0.24625,     0.24725,     0.24825,     0.24925,     0.25025,     0.25125,     0.25225,     0.25325,     0.25425,     0.25526,     0.25626,     0.25726,     0.25826,     0.25926,     0.26026,     0.26126,     0.26226,     0.26326,\n",
       "           0.26426,     0.26527,     0.26627,     0.26727,     0.26827,     0.26927,     0.27027,     0.27127,     0.27227,     0.27327,     0.27427,     0.27528,     0.27628,     0.27728,     0.27828,     0.27928,     0.28028,     0.28128,     0.28228,     0.28328,     0.28428,     0.28529,     0.28629,     0.28729,\n",
       "           0.28829,     0.28929,     0.29029,     0.29129,     0.29229,     0.29329,     0.29429,      0.2953,      0.2963,      0.2973,      0.2983,      0.2993,      0.3003,      0.3013,      0.3023,      0.3033,      0.3043,     0.30531,     0.30631,     0.30731,     0.30831,     0.30931,     0.31031,     0.31131,\n",
       "           0.31231,     0.31331,     0.31431,     0.31532,     0.31632,     0.31732,     0.31832,     0.31932,     0.32032,     0.32132,     0.32232,     0.32332,     0.32432,     0.32533,     0.32633,     0.32733,     0.32833,     0.32933,     0.33033,     0.33133,     0.33233,     0.33333,     0.33433,     0.33534,\n",
       "           0.33634,     0.33734,     0.33834,     0.33934,     0.34034,     0.34134,     0.34234,     0.34334,     0.34434,     0.34535,     0.34635,     0.34735,     0.34835,     0.34935,     0.35035,     0.35135,     0.35235,     0.35335,     0.35435,     0.35536,     0.35636,     0.35736,     0.35836,     0.35936,\n",
       "           0.36036,     0.36136,     0.36236,     0.36336,     0.36436,     0.36537,     0.36637,     0.36737,     0.36837,     0.36937,     0.37037,     0.37137,     0.37237,     0.37337,     0.37437,     0.37538,     0.37638,     0.37738,     0.37838,     0.37938,     0.38038,     0.38138,     0.38238,     0.38338,\n",
       "           0.38438,     0.38539,     0.38639,     0.38739,     0.38839,     0.38939,     0.39039,     0.39139,     0.39239,     0.39339,     0.39439,      0.3954,      0.3964,      0.3974,      0.3984,      0.3994,      0.4004,      0.4014,      0.4024,      0.4034,      0.4044,     0.40541,     0.40641,     0.40741,\n",
       "           0.40841,     0.40941,     0.41041,     0.41141,     0.41241,     0.41341,     0.41441,     0.41542,     0.41642,     0.41742,     0.41842,     0.41942,     0.42042,     0.42142,     0.42242,     0.42342,     0.42442,     0.42543,     0.42643,     0.42743,     0.42843,     0.42943,     0.43043,     0.43143,\n",
       "           0.43243,     0.43343,     0.43443,     0.43544,     0.43644,     0.43744,     0.43844,     0.43944,     0.44044,     0.44144,     0.44244,     0.44344,     0.44444,     0.44545,     0.44645,     0.44745,     0.44845,     0.44945,     0.45045,     0.45145,     0.45245,     0.45345,     0.45445,     0.45546,\n",
       "           0.45646,     0.45746,     0.45846,     0.45946,     0.46046,     0.46146,     0.46246,     0.46346,     0.46446,     0.46547,     0.46647,     0.46747,     0.46847,     0.46947,     0.47047,     0.47147,     0.47247,     0.47347,     0.47447,     0.47548,     0.47648,     0.47748,     0.47848,     0.47948,\n",
       "           0.48048,     0.48148,     0.48248,     0.48348,     0.48448,     0.48549,     0.48649,     0.48749,     0.48849,     0.48949,     0.49049,     0.49149,     0.49249,     0.49349,     0.49449,      0.4955,      0.4965,      0.4975,      0.4985,      0.4995,      0.5005,      0.5015,      0.5025,      0.5035,\n",
       "            0.5045,     0.50551,     0.50651,     0.50751,     0.50851,     0.50951,     0.51051,     0.51151,     0.51251,     0.51351,     0.51451,     0.51552,     0.51652,     0.51752,     0.51852,     0.51952,     0.52052,     0.52152,     0.52252,     0.52352,     0.52452,     0.52553,     0.52653,     0.52753,\n",
       "           0.52853,     0.52953,     0.53053,     0.53153,     0.53253,     0.53353,     0.53453,     0.53554,     0.53654,     0.53754,     0.53854,     0.53954,     0.54054,     0.54154,     0.54254,     0.54354,     0.54454,     0.54555,     0.54655,     0.54755,     0.54855,     0.54955,     0.55055,     0.55155,\n",
       "           0.55255,     0.55355,     0.55455,     0.55556,     0.55656,     0.55756,     0.55856,     0.55956,     0.56056,     0.56156,     0.56256,     0.56356,     0.56456,     0.56557,     0.56657,     0.56757,     0.56857,     0.56957,     0.57057,     0.57157,     0.57257,     0.57357,     0.57457,     0.57558,\n",
       "           0.57658,     0.57758,     0.57858,     0.57958,     0.58058,     0.58158,     0.58258,     0.58358,     0.58458,     0.58559,     0.58659,     0.58759,     0.58859,     0.58959,     0.59059,     0.59159,     0.59259,     0.59359,     0.59459,      0.5956,      0.5966,      0.5976,      0.5986,      0.5996,\n",
       "            0.6006,      0.6016,      0.6026,      0.6036,      0.6046,     0.60561,     0.60661,     0.60761,     0.60861,     0.60961,     0.61061,     0.61161,     0.61261,     0.61361,     0.61461,     0.61562,     0.61662,     0.61762,     0.61862,     0.61962,     0.62062,     0.62162,     0.62262,     0.62362,\n",
       "           0.62462,     0.62563,     0.62663,     0.62763,     0.62863,     0.62963,     0.63063,     0.63163,     0.63263,     0.63363,     0.63463,     0.63564,     0.63664,     0.63764,     0.63864,     0.63964,     0.64064,     0.64164,     0.64264,     0.64364,     0.64464,     0.64565,     0.64665,     0.64765,\n",
       "           0.64865,     0.64965,     0.65065,     0.65165,     0.65265,     0.65365,     0.65465,     0.65566,     0.65666,     0.65766,     0.65866,     0.65966,     0.66066,     0.66166,     0.66266,     0.66366,     0.66466,     0.66567,     0.66667,     0.66767,     0.66867,     0.66967,     0.67067,     0.67167,\n",
       "           0.67267,     0.67367,     0.67467,     0.67568,     0.67668,     0.67768,     0.67868,     0.67968,     0.68068,     0.68168,     0.68268,     0.68368,     0.68468,     0.68569,     0.68669,     0.68769,     0.68869,     0.68969,     0.69069,     0.69169,     0.69269,     0.69369,     0.69469,      0.6957,\n",
       "            0.6967,      0.6977,      0.6987,      0.6997,      0.7007,      0.7017,      0.7027,      0.7037,      0.7047,     0.70571,     0.70671,     0.70771,     0.70871,     0.70971,     0.71071,     0.71171,     0.71271,     0.71371,     0.71471,     0.71572,     0.71672,     0.71772,     0.71872,     0.71972,\n",
       "           0.72072,     0.72172,     0.72272,     0.72372,     0.72472,     0.72573,     0.72673,     0.72773,     0.72873,     0.72973,     0.73073,     0.73173,     0.73273,     0.73373,     0.73473,     0.73574,     0.73674,     0.73774,     0.73874,     0.73974,     0.74074,     0.74174,     0.74274,     0.74374,\n",
       "           0.74474,     0.74575,     0.74675,     0.74775,     0.74875,     0.74975,     0.75075,     0.75175,     0.75275,     0.75375,     0.75475,     0.75576,     0.75676,     0.75776,     0.75876,     0.75976,     0.76076,     0.76176,     0.76276,     0.76376,     0.76476,     0.76577,     0.76677,     0.76777,\n",
       "           0.76877,     0.76977,     0.77077,     0.77177,     0.77277,     0.77377,     0.77477,     0.77578,     0.77678,     0.77778,     0.77878,     0.77978,     0.78078,     0.78178,     0.78278,     0.78378,     0.78478,     0.78579,     0.78679,     0.78779,     0.78879,     0.78979,     0.79079,     0.79179,\n",
       "           0.79279,     0.79379,     0.79479,      0.7958,      0.7968,      0.7978,      0.7988,      0.7998,      0.8008,      0.8018,      0.8028,      0.8038,      0.8048,     0.80581,     0.80681,     0.80781,     0.80881,     0.80981,     0.81081,     0.81181,     0.81281,     0.81381,     0.81481,     0.81582,\n",
       "           0.81682,     0.81782,     0.81882,     0.81982,     0.82082,     0.82182,     0.82282,     0.82382,     0.82482,     0.82583,     0.82683,     0.82783,     0.82883,     0.82983,     0.83083,     0.83183,     0.83283,     0.83383,     0.83483,     0.83584,     0.83684,     0.83784,     0.83884,     0.83984,\n",
       "           0.84084,     0.84184,     0.84284,     0.84384,     0.84484,     0.84585,     0.84685,     0.84785,     0.84885,     0.84985,     0.85085,     0.85185,     0.85285,     0.85385,     0.85485,     0.85586,     0.85686,     0.85786,     0.85886,     0.85986,     0.86086,     0.86186,     0.86286,     0.86386,\n",
       "           0.86486,     0.86587,     0.86687,     0.86787,     0.86887,     0.86987,     0.87087,     0.87187,     0.87287,     0.87387,     0.87487,     0.87588,     0.87688,     0.87788,     0.87888,     0.87988,     0.88088,     0.88188,     0.88288,     0.88388,     0.88488,     0.88589,     0.88689,     0.88789,\n",
       "           0.88889,     0.88989,     0.89089,     0.89189,     0.89289,     0.89389,     0.89489,      0.8959,      0.8969,      0.8979,      0.8989,      0.8999,      0.9009,      0.9019,      0.9029,      0.9039,      0.9049,     0.90591,     0.90691,     0.90791,     0.90891,     0.90991,     0.91091,     0.91191,\n",
       "           0.91291,     0.91391,     0.91491,     0.91592,     0.91692,     0.91792,     0.91892,     0.91992,     0.92092,     0.92192,     0.92292,     0.92392,     0.92492,     0.92593,     0.92693,     0.92793,     0.92893,     0.92993,     0.93093,     0.93193,     0.93293,     0.93393,     0.93493,     0.93594,\n",
       "           0.93694,     0.93794,     0.93894,     0.93994,     0.94094,     0.94194,     0.94294,     0.94394,     0.94494,     0.94595,     0.94695,     0.94795,     0.94895,     0.94995,     0.95095,     0.95195,     0.95295,     0.95395,     0.95495,     0.95596,     0.95696,     0.95796,     0.95896,     0.95996,\n",
       "           0.96096,     0.96196,     0.96296,     0.96396,     0.96496,     0.96597,     0.96697,     0.96797,     0.96897,     0.96997,     0.97097,     0.97197,     0.97297,     0.97397,     0.97497,     0.97598,     0.97698,     0.97798,     0.97898,     0.97998,     0.98098,     0.98198,     0.98298,     0.98398,\n",
       "           0.98498,     0.98599,     0.98699,     0.98799,     0.98899,     0.98999,     0.99099,     0.99199,     0.99299,     0.99399,     0.99499,       0.996,       0.997,       0.998,       0.999,           1]), array([[   0.082438,    0.082542,     0.12599,     0.15571,     0.17813,     0.19498,     0.21059,     0.22458,     0.23867,     0.24812,     0.26029,     0.27068,     0.27997,     0.28826,      0.2946,     0.29962,      0.3036,     0.30689,     0.31174,     0.31698,     0.32068,     0.32927,     0.33582,\n",
       "            0.34029,     0.34423,     0.34865,     0.35339,      0.3558,     0.35612,     0.36107,     0.36354,     0.36813,     0.37431,     0.37882,     0.38162,     0.38595,     0.39342,     0.39803,     0.39848,     0.40338,     0.40507,     0.40811,     0.41148,     0.41559,      0.4189,     0.42185,\n",
       "            0.42433,     0.42561,     0.42994,     0.43366,     0.43521,     0.43527,     0.43652,     0.43827,     0.44324,     0.44492,     0.44636,     0.44966,     0.45218,      0.4546,      0.4578,     0.46021,     0.46364,     0.46624,     0.46977,     0.47133,     0.47316,     0.47662,     0.47949,\n",
       "            0.48052,      0.4808,     0.48094,      0.4821,     0.48487,     0.48608,      0.4892,     0.49156,     0.49269,     0.49341,     0.49433,     0.49557,      0.4982,     0.49896,     0.50059,     0.50096,      0.5044,     0.50789,     0.50889,      0.5118,     0.51504,     0.51553,       0.517,\n",
       "            0.51745,      0.5179,     0.51886,     0.51997,     0.52081,     0.52443,     0.52534,     0.52569,     0.52605,     0.52761,     0.52881,     0.52789,     0.52919,     0.53125,     0.53244,      0.5334,     0.53379,     0.53423,     0.53525,      0.5391,     0.54131,     0.54284,     0.54724,\n",
       "            0.54901,     0.54946,      0.5499,     0.55042,     0.55102,     0.55169,     0.55243,     0.55463,     0.55581,     0.55543,     0.55621,     0.55744,      0.5581,     0.56059,     0.56163,     0.56214,     0.56353,     0.56589,     0.56827,     0.57145,     0.57374,     0.57415,     0.57457,\n",
       "            0.57576,     0.57734,     0.57798,     0.57852,     0.57924,     0.58103,     0.58333,     0.58394,     0.58365,     0.58356,      0.5877,      0.5892,     0.59126,     0.59376,      0.5947,     0.59512,     0.59554,     0.59669,     0.59708,     0.59984,     0.60071,     0.60102,     0.60132,\n",
       "            0.60163,      0.6021,     0.60355,     0.60423,     0.60497,     0.60597,     0.60745,     0.60714,     0.60683,     0.60732,     0.60969,     0.61037,     0.61104,     0.61139,     0.61171,     0.61202,     0.61234,     0.61289,     0.61561,     0.61597,     0.61632,     0.61668,     0.61703,\n",
       "            0.62072,     0.62409,     0.62731,     0.62971,      0.6309,     0.63153,     0.63215,     0.63272,      0.6332,     0.63369,     0.63416,     0.63459,     0.63501,     0.63543,     0.63586,      0.6363,     0.63674,     0.63718,     0.63836,     0.63945,     0.64034,     0.64116,     0.64195,\n",
       "            0.64314,     0.64573,      0.6464,      0.6471,     0.64924,     0.65172,     0.65304,      0.6532,     0.65601,     0.65714,     0.65765,     0.65815,     0.65866,     0.65934,     0.66008,      0.6604,     0.66008,     0.65975,      0.6629,     0.66387,     0.66467,     0.66678,     0.66717,\n",
       "            0.66756,     0.66795,     0.66834,     0.66936,     0.67157,     0.67253,     0.67307,     0.67362,     0.67403,     0.67434,     0.67466,     0.67497,     0.67529,      0.6756,     0.67703,     0.67925,     0.68041,     0.68085,      0.6813,     0.68174,     0.68219,     0.68253,     0.68288,\n",
       "            0.68323,     0.68358,     0.68392,     0.68511,      0.6875,     0.68721,     0.68801,     0.68881,     0.69056,     0.69011,     0.69219,      0.6929,      0.6936,     0.69288,     0.69276,     0.69263,     0.69251,     0.69238,     0.69226,     0.69213,     0.69121,     0.69065,     0.69108,\n",
       "            0.69261,     0.69393,     0.69704,     0.69801,     0.69759,     0.69771,     0.69826,     0.69881,     0.69936,      0.7003,      0.7013,     0.70059,      0.7008,     0.70101,     0.70121,     0.70142,     0.70163,     0.70184,     0.70205,     0.70226,     0.70247,     0.70471,     0.70548,\n",
       "            0.70626,     0.70951,     0.71056,     0.71012,     0.71347,     0.71504,     0.71651,     0.71712,     0.71772,     0.71833,     0.72506,     0.72642,     0.72753,     0.72823,     0.72893,     0.72973,     0.73089,     0.73216,      0.7337,     0.73629,     0.73685,     0.73741,     0.73798,\n",
       "            0.73851,     0.73886,     0.73921,     0.73956,     0.73991,     0.74025,      0.7406,     0.74105,     0.74156,     0.74207,     0.74258,      0.7441,       0.748,     0.74845,      0.7489,     0.74935,      0.7498,     0.75153,     0.75458,     0.75428,     0.75399,     0.75451,     0.75519,\n",
       "            0.75586,     0.75653,     0.75721,     0.75788,     0.75855,     0.75972,     0.76107,     0.76039,     0.76193,     0.76528,     0.76596,     0.76665,     0.76733,     0.76735,     0.76684,     0.76659,     0.76635,     0.76958,     0.77148,     0.77235,     0.77322,      0.7737,      0.7735,\n",
       "             0.7733,      0.7731,     0.77258,     0.77162,      0.7719,     0.77218,     0.77246,     0.77274,     0.77302,      0.7733,     0.77358,     0.77385,     0.77434,     0.77583,     0.77628,     0.77718,     0.77934,      0.7812,     0.78146,     0.78172,     0.78199,     0.78225,     0.78251,\n",
       "            0.78277,     0.78304,      0.7833,     0.78356,     0.78387,     0.78438,     0.78488,     0.78539,      0.7859,     0.78641,     0.78632,     0.78618,     0.78605,     0.78592,     0.78578,     0.78591,     0.78633,     0.78674,     0.78716,     0.78757,     0.78799,      0.7885,      0.7915,\n",
       "            0.79265,      0.7938,     0.79337,     0.79384,     0.79563,     0.79682,     0.79792,     0.79866,     0.79879,     0.79893,     0.79906,     0.79919,     0.79932,     0.79946,     0.79959,     0.79972,     0.79986,     0.79999,     0.80012,     0.80025,     0.80039,     0.80052,     0.80065,\n",
       "            0.80078,     0.80092,     0.80105,     0.80118,     0.80132,     0.80133,     0.80117,     0.80101,     0.80086,      0.8007,      0.8006,      0.8005,      0.8004,      0.8003,      0.8002,      0.8001,         0.8,     0.80053,     0.80106,     0.80159,     0.80212,     0.80265,     0.80266,\n",
       "            0.80244,     0.80222,     0.80206,     0.80195,     0.80184,     0.80173,     0.80162,     0.80151,     0.80122,     0.80063,     0.80045,     0.80028,     0.80011,     0.80255,     0.80337,     0.80389,     0.80442,     0.80494,     0.80547,     0.80623,     0.80785,     0.80756,     0.80717,\n",
       "            0.80632,     0.80601,     0.80634,     0.80726,     0.80819,     0.80974,     0.81176,     0.81161,     0.81146,     0.81131,     0.81116,      0.8124,     0.81409,     0.81381,     0.81354,     0.81325,     0.81296,     0.81294,     0.81387,     0.81481,     0.81574,     0.81595,     0.81747,\n",
       "            0.81796,     0.81754,     0.82079,     0.82137,     0.82195,     0.82254,     0.82312,     0.82371,     0.82318,     0.82392,     0.82493,     0.82594,      0.8265,     0.82686,     0.82722,     0.82758,     0.82794,     0.82829,     0.82865,     0.82901,     0.82937,     0.82996,     0.83063,\n",
       "             0.8313,     0.83197,     0.83265,      0.8331,     0.83354,     0.83397,     0.83441,     0.83485,     0.83529,     0.83573,     0.83587,     0.83575,     0.83562,      0.8355,     0.83537,     0.83552,     0.83612,     0.83671,      0.8373,      0.8379,     0.83849,     0.83853,     0.83846,\n",
       "            0.83839,     0.83833,     0.83826,     0.83819,     0.83813,     0.83806,     0.83799,     0.83864,     0.84108,     0.84102,     0.84366,     0.84673,     0.84666,     0.84653,     0.84641,     0.84629,     0.84617,     0.84959,      0.8495,     0.84942,     0.84934,     0.84925,     0.84917,\n",
       "            0.84909,     0.84901,     0.84893,     0.84885,     0.84877,     0.84869,     0.84862,     0.84854,     0.84846,     0.84838,     0.84809,      0.8477,     0.84734,     0.84668,     0.84675,     0.84708,     0.84742,     0.84775,     0.84808,     0.84842,     0.84875,     0.84909,     0.84942,\n",
       "            0.84975,     0.84995,     0.84977,     0.84959,     0.84941,     0.84932,     0.84925,     0.84918,     0.84911,     0.84905,     0.84898,     0.84891,     0.84884,     0.84877,     0.84861,     0.84837,     0.84813,     0.84881,     0.84961,      0.8504,      0.8512,     0.85147,       0.851,\n",
       "            0.85079,     0.85058,      0.8503,     0.84987,     0.85161,     0.85378,     0.85541,     0.85704,     0.85705,     0.85696,     0.85687,     0.85677,     0.85668,     0.85659,     0.85646,     0.85625,     0.85604,     0.85612,     0.85686,      0.8576,     0.85834,     0.85908,     0.85961,\n",
       "            0.85945,     0.85929,     0.85913,     0.86008,     0.86296,      0.8666,     0.86655,     0.86643,      0.8663,     0.86618,     0.86606,     0.86592,     0.86578,     0.86564,      0.8655,     0.86539,     0.86529,     0.86518,     0.86508,     0.86498,     0.86488,     0.86479,     0.86471,\n",
       "            0.86462,     0.86454,     0.86446,     0.86438,     0.86429,      0.8642,     0.86409,     0.86398,     0.86387,     0.86376,     0.86365,     0.86672,     0.86635,     0.86623,     0.86611,     0.86599,     0.86588,     0.86576,     0.87774,     0.87748,     0.87868,     0.87989,     0.88109,\n",
       "            0.88137,     0.88115,     0.88092,     0.88068,     0.88045,     0.88159,     0.88324,     0.88456,     0.88425,     0.88363,     0.88323,     0.88291,     0.88242,     0.88214,     0.88189,     0.88172,     0.88163,     0.88155,     0.88146,     0.88137,     0.88128,      0.8812,     0.88291,\n",
       "            0.88463,     0.88545,     0.88518,      0.8875,     0.88888,     0.88874,      0.8886,     0.88846,     0.88777,     0.88889,        0.89,     0.89111,     0.89222,     0.89402,     0.89589,     0.89682,     0.89662,     0.89643,     0.89942,     0.90096,     0.90082,     0.90069,     0.90055,\n",
       "            0.90043,     0.90032,      0.9002,     0.90008,     0.89936,     0.89868,     0.89831,      0.8982,     0.89808,     0.89797,     0.89785,     0.89903,     0.90023,     0.90143,     0.90262,       0.902,     0.90178,     0.90108,     0.90094,     0.90079,     0.90065,     0.90093,       0.902,\n",
       "            0.90306,     0.90412,     0.90519,     0.90533,     0.90497,     0.90453,     0.90571,     0.90903,     0.90882,     0.90861,     0.90838,     0.90815,     0.90795,     0.91627,     0.92333,     0.92485,     0.92637,     0.92789,     0.93411,     0.93393,     0.93374,     0.93338,     0.93278,\n",
       "            0.93208,     0.93356,     0.93711,     0.93689,     0.93907,     0.94315,     0.94746,     0.94844,     0.94825,      0.9481,     0.94764,     0.94747,     0.95981,     0.95911,     0.95897,     0.95883,     0.95867,     0.95847,     0.96103,     0.96489,       0.964,     0.96362,     0.96346,\n",
       "            0.96329,     0.96307,     0.96285,     0.96255,     0.96435,     0.96697,      0.9696,     0.96965,     0.96959,     0.96954,     0.96948,     0.96874,     0.96864,     0.96853,     0.97383,     0.97611,     0.97599,     0.97591,     0.97584,     0.97578,     0.97572,     0.97566,      0.9756,\n",
       "            0.97546,     0.98329,     0.98317,     0.98305,     0.98292,     0.98287,     0.98283,     0.98278,     0.98257,     0.98227,     0.98204,     0.98189,     0.98156,     0.98142,     0.98134,     0.98111,     0.98104,     0.98097,     0.98069,     0.98057,     0.98049,     0.98042,     0.98026,\n",
       "            0.97986,     0.97951,      0.9792,     0.97905,     0.97892,     0.97874,     0.97846,     0.97827,     0.97745,     0.98115,     0.98812,     0.98772,     0.98744,     0.98737,       0.987,     0.98691,     0.98674,     0.98649,           1,           1,           1,           1,           1,\n",
       "                  1,           1,           1,           1,           1,           1,           1,           1,           1,           1,           1,           1,           1,           1,           1,           1,           1,           1,           1,           1,           1,           1,           1,\n",
       "                  1,           1,           1,           1,           1,           1,           1,           1,           1,           1,           1,           1,           1,           1,           1,           1,           1,           1,           1,           1,           1,           1,           1,\n",
       "                  1,           1,           1,           1,           1,           1,           1,           1,           1,           1,           1,           1,           1,           1,           1,           1,           1,           1,           1,           1,           1,           1,           1,\n",
       "                  1,           1,           1,           1,           1,           1,           1,           1,           1,           1,           1,           1,           1,           1,           1,           1,           1,           1,           1,           1,           1,           1,           1,\n",
       "                  1,           1,           1,           1,           1,           1,           1,           1,           1,           1,           1,           1,           1,           1,           1,           1,           1,           1,           1,           1,           1,           1,           1,\n",
       "                  1,           1,           1,           1,           1,           1,           1,           1,           1,           1,           1]]), 'Confidence', 'Precision'], [array([          0,    0.001001,    0.002002,    0.003003,    0.004004,    0.005005,    0.006006,    0.007007,    0.008008,    0.009009,     0.01001,    0.011011,    0.012012,    0.013013,    0.014014,    0.015015,    0.016016,    0.017017,    0.018018,    0.019019,     0.02002,    0.021021,    0.022022,    0.023023,\n",
       "          0.024024,    0.025025,    0.026026,    0.027027,    0.028028,    0.029029,     0.03003,    0.031031,    0.032032,    0.033033,    0.034034,    0.035035,    0.036036,    0.037037,    0.038038,    0.039039,     0.04004,    0.041041,    0.042042,    0.043043,    0.044044,    0.045045,    0.046046,    0.047047,\n",
       "          0.048048,    0.049049,     0.05005,    0.051051,    0.052052,    0.053053,    0.054054,    0.055055,    0.056056,    0.057057,    0.058058,    0.059059,     0.06006,    0.061061,    0.062062,    0.063063,    0.064064,    0.065065,    0.066066,    0.067067,    0.068068,    0.069069,     0.07007,    0.071071,\n",
       "          0.072072,    0.073073,    0.074074,    0.075075,    0.076076,    0.077077,    0.078078,    0.079079,     0.08008,    0.081081,    0.082082,    0.083083,    0.084084,    0.085085,    0.086086,    0.087087,    0.088088,    0.089089,     0.09009,    0.091091,    0.092092,    0.093093,    0.094094,    0.095095,\n",
       "          0.096096,    0.097097,    0.098098,    0.099099,      0.1001,      0.1011,      0.1021,      0.1031,      0.1041,     0.10511,     0.10611,     0.10711,     0.10811,     0.10911,     0.11011,     0.11111,     0.11211,     0.11311,     0.11411,     0.11512,     0.11612,     0.11712,     0.11812,     0.11912,\n",
       "           0.12012,     0.12112,     0.12212,     0.12312,     0.12412,     0.12513,     0.12613,     0.12713,     0.12813,     0.12913,     0.13013,     0.13113,     0.13213,     0.13313,     0.13413,     0.13514,     0.13614,     0.13714,     0.13814,     0.13914,     0.14014,     0.14114,     0.14214,     0.14314,\n",
       "           0.14414,     0.14515,     0.14615,     0.14715,     0.14815,     0.14915,     0.15015,     0.15115,     0.15215,     0.15315,     0.15415,     0.15516,     0.15616,     0.15716,     0.15816,     0.15916,     0.16016,     0.16116,     0.16216,     0.16316,     0.16416,     0.16517,     0.16617,     0.16717,\n",
       "           0.16817,     0.16917,     0.17017,     0.17117,     0.17217,     0.17317,     0.17417,     0.17518,     0.17618,     0.17718,     0.17818,     0.17918,     0.18018,     0.18118,     0.18218,     0.18318,     0.18418,     0.18519,     0.18619,     0.18719,     0.18819,     0.18919,     0.19019,     0.19119,\n",
       "           0.19219,     0.19319,     0.19419,      0.1952,      0.1962,      0.1972,      0.1982,      0.1992,      0.2002,      0.2012,      0.2022,      0.2032,      0.2042,     0.20521,     0.20621,     0.20721,     0.20821,     0.20921,     0.21021,     0.21121,     0.21221,     0.21321,     0.21421,     0.21522,\n",
       "           0.21622,     0.21722,     0.21822,     0.21922,     0.22022,     0.22122,     0.22222,     0.22322,     0.22422,     0.22523,     0.22623,     0.22723,     0.22823,     0.22923,     0.23023,     0.23123,     0.23223,     0.23323,     0.23423,     0.23524,     0.23624,     0.23724,     0.23824,     0.23924,\n",
       "           0.24024,     0.24124,     0.24224,     0.24324,     0.24424,     0.24525,     0.24625,     0.24725,     0.24825,     0.24925,     0.25025,     0.25125,     0.25225,     0.25325,     0.25425,     0.25526,     0.25626,     0.25726,     0.25826,     0.25926,     0.26026,     0.26126,     0.26226,     0.26326,\n",
       "           0.26426,     0.26527,     0.26627,     0.26727,     0.26827,     0.26927,     0.27027,     0.27127,     0.27227,     0.27327,     0.27427,     0.27528,     0.27628,     0.27728,     0.27828,     0.27928,     0.28028,     0.28128,     0.28228,     0.28328,     0.28428,     0.28529,     0.28629,     0.28729,\n",
       "           0.28829,     0.28929,     0.29029,     0.29129,     0.29229,     0.29329,     0.29429,      0.2953,      0.2963,      0.2973,      0.2983,      0.2993,      0.3003,      0.3013,      0.3023,      0.3033,      0.3043,     0.30531,     0.30631,     0.30731,     0.30831,     0.30931,     0.31031,     0.31131,\n",
       "           0.31231,     0.31331,     0.31431,     0.31532,     0.31632,     0.31732,     0.31832,     0.31932,     0.32032,     0.32132,     0.32232,     0.32332,     0.32432,     0.32533,     0.32633,     0.32733,     0.32833,     0.32933,     0.33033,     0.33133,     0.33233,     0.33333,     0.33433,     0.33534,\n",
       "           0.33634,     0.33734,     0.33834,     0.33934,     0.34034,     0.34134,     0.34234,     0.34334,     0.34434,     0.34535,     0.34635,     0.34735,     0.34835,     0.34935,     0.35035,     0.35135,     0.35235,     0.35335,     0.35435,     0.35536,     0.35636,     0.35736,     0.35836,     0.35936,\n",
       "           0.36036,     0.36136,     0.36236,     0.36336,     0.36436,     0.36537,     0.36637,     0.36737,     0.36837,     0.36937,     0.37037,     0.37137,     0.37237,     0.37337,     0.37437,     0.37538,     0.37638,     0.37738,     0.37838,     0.37938,     0.38038,     0.38138,     0.38238,     0.38338,\n",
       "           0.38438,     0.38539,     0.38639,     0.38739,     0.38839,     0.38939,     0.39039,     0.39139,     0.39239,     0.39339,     0.39439,      0.3954,      0.3964,      0.3974,      0.3984,      0.3994,      0.4004,      0.4014,      0.4024,      0.4034,      0.4044,     0.40541,     0.40641,     0.40741,\n",
       "           0.40841,     0.40941,     0.41041,     0.41141,     0.41241,     0.41341,     0.41441,     0.41542,     0.41642,     0.41742,     0.41842,     0.41942,     0.42042,     0.42142,     0.42242,     0.42342,     0.42442,     0.42543,     0.42643,     0.42743,     0.42843,     0.42943,     0.43043,     0.43143,\n",
       "           0.43243,     0.43343,     0.43443,     0.43544,     0.43644,     0.43744,     0.43844,     0.43944,     0.44044,     0.44144,     0.44244,     0.44344,     0.44444,     0.44545,     0.44645,     0.44745,     0.44845,     0.44945,     0.45045,     0.45145,     0.45245,     0.45345,     0.45445,     0.45546,\n",
       "           0.45646,     0.45746,     0.45846,     0.45946,     0.46046,     0.46146,     0.46246,     0.46346,     0.46446,     0.46547,     0.46647,     0.46747,     0.46847,     0.46947,     0.47047,     0.47147,     0.47247,     0.47347,     0.47447,     0.47548,     0.47648,     0.47748,     0.47848,     0.47948,\n",
       "           0.48048,     0.48148,     0.48248,     0.48348,     0.48448,     0.48549,     0.48649,     0.48749,     0.48849,     0.48949,     0.49049,     0.49149,     0.49249,     0.49349,     0.49449,      0.4955,      0.4965,      0.4975,      0.4985,      0.4995,      0.5005,      0.5015,      0.5025,      0.5035,\n",
       "            0.5045,     0.50551,     0.50651,     0.50751,     0.50851,     0.50951,     0.51051,     0.51151,     0.51251,     0.51351,     0.51451,     0.51552,     0.51652,     0.51752,     0.51852,     0.51952,     0.52052,     0.52152,     0.52252,     0.52352,     0.52452,     0.52553,     0.52653,     0.52753,\n",
       "           0.52853,     0.52953,     0.53053,     0.53153,     0.53253,     0.53353,     0.53453,     0.53554,     0.53654,     0.53754,     0.53854,     0.53954,     0.54054,     0.54154,     0.54254,     0.54354,     0.54454,     0.54555,     0.54655,     0.54755,     0.54855,     0.54955,     0.55055,     0.55155,\n",
       "           0.55255,     0.55355,     0.55455,     0.55556,     0.55656,     0.55756,     0.55856,     0.55956,     0.56056,     0.56156,     0.56256,     0.56356,     0.56456,     0.56557,     0.56657,     0.56757,     0.56857,     0.56957,     0.57057,     0.57157,     0.57257,     0.57357,     0.57457,     0.57558,\n",
       "           0.57658,     0.57758,     0.57858,     0.57958,     0.58058,     0.58158,     0.58258,     0.58358,     0.58458,     0.58559,     0.58659,     0.58759,     0.58859,     0.58959,     0.59059,     0.59159,     0.59259,     0.59359,     0.59459,      0.5956,      0.5966,      0.5976,      0.5986,      0.5996,\n",
       "            0.6006,      0.6016,      0.6026,      0.6036,      0.6046,     0.60561,     0.60661,     0.60761,     0.60861,     0.60961,     0.61061,     0.61161,     0.61261,     0.61361,     0.61461,     0.61562,     0.61662,     0.61762,     0.61862,     0.61962,     0.62062,     0.62162,     0.62262,     0.62362,\n",
       "           0.62462,     0.62563,     0.62663,     0.62763,     0.62863,     0.62963,     0.63063,     0.63163,     0.63263,     0.63363,     0.63463,     0.63564,     0.63664,     0.63764,     0.63864,     0.63964,     0.64064,     0.64164,     0.64264,     0.64364,     0.64464,     0.64565,     0.64665,     0.64765,\n",
       "           0.64865,     0.64965,     0.65065,     0.65165,     0.65265,     0.65365,     0.65465,     0.65566,     0.65666,     0.65766,     0.65866,     0.65966,     0.66066,     0.66166,     0.66266,     0.66366,     0.66466,     0.66567,     0.66667,     0.66767,     0.66867,     0.66967,     0.67067,     0.67167,\n",
       "           0.67267,     0.67367,     0.67467,     0.67568,     0.67668,     0.67768,     0.67868,     0.67968,     0.68068,     0.68168,     0.68268,     0.68368,     0.68468,     0.68569,     0.68669,     0.68769,     0.68869,     0.68969,     0.69069,     0.69169,     0.69269,     0.69369,     0.69469,      0.6957,\n",
       "            0.6967,      0.6977,      0.6987,      0.6997,      0.7007,      0.7017,      0.7027,      0.7037,      0.7047,     0.70571,     0.70671,     0.70771,     0.70871,     0.70971,     0.71071,     0.71171,     0.71271,     0.71371,     0.71471,     0.71572,     0.71672,     0.71772,     0.71872,     0.71972,\n",
       "           0.72072,     0.72172,     0.72272,     0.72372,     0.72472,     0.72573,     0.72673,     0.72773,     0.72873,     0.72973,     0.73073,     0.73173,     0.73273,     0.73373,     0.73473,     0.73574,     0.73674,     0.73774,     0.73874,     0.73974,     0.74074,     0.74174,     0.74274,     0.74374,\n",
       "           0.74474,     0.74575,     0.74675,     0.74775,     0.74875,     0.74975,     0.75075,     0.75175,     0.75275,     0.75375,     0.75475,     0.75576,     0.75676,     0.75776,     0.75876,     0.75976,     0.76076,     0.76176,     0.76276,     0.76376,     0.76476,     0.76577,     0.76677,     0.76777,\n",
       "           0.76877,     0.76977,     0.77077,     0.77177,     0.77277,     0.77377,     0.77477,     0.77578,     0.77678,     0.77778,     0.77878,     0.77978,     0.78078,     0.78178,     0.78278,     0.78378,     0.78478,     0.78579,     0.78679,     0.78779,     0.78879,     0.78979,     0.79079,     0.79179,\n",
       "           0.79279,     0.79379,     0.79479,      0.7958,      0.7968,      0.7978,      0.7988,      0.7998,      0.8008,      0.8018,      0.8028,      0.8038,      0.8048,     0.80581,     0.80681,     0.80781,     0.80881,     0.80981,     0.81081,     0.81181,     0.81281,     0.81381,     0.81481,     0.81582,\n",
       "           0.81682,     0.81782,     0.81882,     0.81982,     0.82082,     0.82182,     0.82282,     0.82382,     0.82482,     0.82583,     0.82683,     0.82783,     0.82883,     0.82983,     0.83083,     0.83183,     0.83283,     0.83383,     0.83483,     0.83584,     0.83684,     0.83784,     0.83884,     0.83984,\n",
       "           0.84084,     0.84184,     0.84284,     0.84384,     0.84484,     0.84585,     0.84685,     0.84785,     0.84885,     0.84985,     0.85085,     0.85185,     0.85285,     0.85385,     0.85485,     0.85586,     0.85686,     0.85786,     0.85886,     0.85986,     0.86086,     0.86186,     0.86286,     0.86386,\n",
       "           0.86486,     0.86587,     0.86687,     0.86787,     0.86887,     0.86987,     0.87087,     0.87187,     0.87287,     0.87387,     0.87487,     0.87588,     0.87688,     0.87788,     0.87888,     0.87988,     0.88088,     0.88188,     0.88288,     0.88388,     0.88488,     0.88589,     0.88689,     0.88789,\n",
       "           0.88889,     0.88989,     0.89089,     0.89189,     0.89289,     0.89389,     0.89489,      0.8959,      0.8969,      0.8979,      0.8989,      0.8999,      0.9009,      0.9019,      0.9029,      0.9039,      0.9049,     0.90591,     0.90691,     0.90791,     0.90891,     0.90991,     0.91091,     0.91191,\n",
       "           0.91291,     0.91391,     0.91491,     0.91592,     0.91692,     0.91792,     0.91892,     0.91992,     0.92092,     0.92192,     0.92292,     0.92392,     0.92492,     0.92593,     0.92693,     0.92793,     0.92893,     0.92993,     0.93093,     0.93193,     0.93293,     0.93393,     0.93493,     0.93594,\n",
       "           0.93694,     0.93794,     0.93894,     0.93994,     0.94094,     0.94194,     0.94294,     0.94394,     0.94494,     0.94595,     0.94695,     0.94795,     0.94895,     0.94995,     0.95095,     0.95195,     0.95295,     0.95395,     0.95495,     0.95596,     0.95696,     0.95796,     0.95896,     0.95996,\n",
       "           0.96096,     0.96196,     0.96296,     0.96396,     0.96496,     0.96597,     0.96697,     0.96797,     0.96897,     0.96997,     0.97097,     0.97197,     0.97297,     0.97397,     0.97497,     0.97598,     0.97698,     0.97798,     0.97898,     0.97998,     0.98098,     0.98198,     0.98298,     0.98398,\n",
       "           0.98498,     0.98599,     0.98699,     0.98799,     0.98899,     0.98999,     0.99099,     0.99199,     0.99299,     0.99399,     0.99499,       0.996,       0.997,       0.998,       0.999,           1]), array([[     0.9303,      0.9303,     0.91515,     0.91515,     0.90909,         0.9,     0.89394,     0.89394,     0.89091,     0.88788,     0.88485,     0.87879,     0.87879,     0.87506,      0.8697,     0.86667,     0.86061,     0.85455,     0.85455,     0.85152,     0.84848,     0.84545,     0.84545,\n",
       "            0.83939,     0.83939,     0.83939,     0.83939,     0.83636,     0.83333,     0.83333,      0.8303,     0.82727,     0.82727,     0.82424,     0.82121,     0.82121,     0.82121,     0.82121,     0.81515,     0.81212,     0.81212,     0.81212,     0.81212,     0.81212,     0.81212,     0.81212,\n",
       "            0.81212,     0.81212,     0.81212,     0.81212,     0.81212,     0.80909,     0.80909,     0.80909,     0.80909,     0.80909,     0.80909,     0.80909,     0.80909,     0.80909,     0.80606,     0.80606,     0.80606,     0.80606,     0.80606,     0.80606,     0.80606,     0.80606,     0.80606,\n",
       "            0.80606,     0.80257,         0.8,         0.8,         0.8,         0.8,         0.8,         0.8,     0.79697,     0.79394,     0.79394,     0.79091,     0.79091,     0.79091,     0.79091,     0.78788,     0.78788,     0.78788,     0.78788,     0.78788,     0.78788,     0.78788,     0.78788,\n",
       "            0.78788,     0.78788,     0.78788,     0.78788,     0.78788,     0.78788,     0.78788,     0.78788,     0.78788,     0.78788,     0.78559,     0.78182,     0.78182,     0.78182,     0.78182,     0.78182,     0.78182,     0.78182,     0.78182,     0.78182,     0.78182,     0.78182,     0.78182,\n",
       "            0.78182,     0.78182,     0.78182,     0.78182,     0.78182,     0.78182,     0.78182,     0.78182,     0.78112,     0.77879,     0.77879,     0.77879,     0.77879,     0.77879,     0.77879,     0.77879,     0.77879,     0.77879,     0.77879,     0.77879,     0.77879,     0.77879,     0.77879,\n",
       "            0.77879,     0.77879,     0.77879,     0.77879,     0.77879,     0.77879,     0.77879,     0.77879,     0.77738,     0.77576,     0.77576,     0.77576,     0.77576,     0.77576,     0.77273,     0.77273,     0.77273,     0.77114,      0.7697,      0.7697,      0.7697,      0.7697,      0.7697,\n",
       "             0.7697,      0.7697,      0.7697,      0.7697,      0.7697,      0.7697,     0.76904,     0.76804,     0.76705,     0.76667,     0.76667,     0.76667,     0.76667,     0.76667,     0.76667,     0.76667,     0.76667,     0.76667,     0.76667,     0.76667,     0.76667,     0.76667,     0.76667,\n",
       "            0.76667,     0.76667,     0.76667,     0.76667,     0.76667,     0.76667,     0.76667,     0.76667,     0.76667,     0.76667,     0.76667,     0.76667,     0.76667,     0.76667,     0.76667,     0.76667,     0.76667,     0.76667,     0.76667,     0.76667,     0.76667,     0.76667,     0.76667,\n",
       "            0.76667,     0.76667,     0.76667,     0.76667,     0.76667,     0.76667,     0.76667,     0.76481,     0.76061,     0.76061,     0.76061,     0.76061,     0.76061,     0.76061,     0.76061,     0.76018,     0.75908,     0.75799,     0.75758,     0.75758,     0.75758,     0.75758,     0.75758,\n",
       "            0.75758,     0.75758,     0.75758,     0.75758,     0.75758,     0.75758,     0.75758,     0.75758,     0.75758,     0.75758,     0.75758,     0.75758,     0.75758,     0.75758,     0.75455,     0.75455,     0.75455,     0.75455,     0.75455,     0.75455,     0.75455,     0.75455,     0.75455,\n",
       "            0.75455,     0.75455,     0.75455,     0.75455,     0.75332,     0.75152,     0.75152,     0.75152,     0.75066,     0.74908,     0.74848,     0.74848,     0.74848,     0.74519,     0.74475,     0.74431,     0.74388,     0.74344,       0.743,     0.74257,     0.73936,     0.73742,     0.73636,\n",
       "            0.73636,     0.73636,     0.73636,     0.73542,     0.73397,     0.73333,     0.73333,     0.73333,     0.73333,     0.73333,     0.73333,      0.7303,      0.7303,      0.7303,      0.7303,      0.7303,      0.7303,      0.7303,      0.7303,      0.7303,      0.7303,      0.7303,      0.7303,\n",
       "             0.7303,      0.7303,     0.72905,     0.72749,     0.72727,     0.72727,     0.72727,     0.72727,     0.72727,     0.72727,     0.72727,     0.72727,     0.72727,     0.72727,     0.72727,     0.72727,     0.72727,     0.72727,     0.72727,     0.72727,     0.72727,     0.72727,     0.72727,\n",
       "            0.72727,     0.72727,     0.72727,     0.72727,     0.72727,     0.72727,     0.72727,     0.72727,     0.72727,     0.72727,     0.72727,     0.72727,     0.72727,     0.72727,     0.72727,     0.72727,     0.72727,     0.72727,     0.72673,     0.72558,     0.72442,     0.72424,     0.72424,\n",
       "            0.72424,     0.72424,     0.72424,     0.72424,     0.72424,     0.72424,     0.72424,     0.72121,     0.72121,     0.72121,     0.72121,     0.72121,     0.72121,     0.71965,     0.71757,     0.71659,      0.7156,     0.71515,     0.71515,     0.71515,     0.71515,     0.71486,     0.71404,\n",
       "            0.71322,      0.7124,     0.71033,     0.70606,     0.70606,     0.70606,     0.70606,     0.70606,     0.70606,     0.70606,     0.70606,     0.70606,     0.70606,     0.70606,     0.70448,     0.70303,     0.70303,     0.70303,     0.70303,     0.70303,     0.70303,     0.70303,     0.70303,\n",
       "            0.70303,     0.70303,     0.70303,     0.70303,     0.70303,     0.70303,     0.70303,     0.70303,     0.70303,     0.70303,     0.70251,     0.70196,      0.7014,     0.70085,     0.70029,         0.7,         0.7,         0.7,         0.7,         0.7,         0.7,         0.7,         0.7,\n",
       "                0.7,         0.7,      0.6981,     0.69697,     0.69697,     0.69697,     0.69697,     0.69697,     0.69697,     0.69697,     0.69697,     0.69697,     0.69697,     0.69697,     0.69697,     0.69697,     0.69697,     0.69697,     0.69697,     0.69697,     0.69697,     0.69697,     0.69697,\n",
       "            0.69697,     0.69697,     0.69697,     0.69697,     0.69697,     0.69669,       0.696,     0.69531,     0.69463,     0.69394,     0.69351,     0.69307,     0.69264,     0.69221,     0.69177,     0.69134,     0.69091,     0.69091,     0.69091,     0.69091,     0.69091,     0.69091,     0.69024,\n",
       "            0.68928,     0.68832,     0.68762,     0.68714,     0.68667,     0.68619,     0.68571,     0.68523,     0.68401,     0.68145,     0.68072,     0.67998,     0.67925,     0.67879,     0.67879,     0.67879,     0.67879,     0.67879,     0.67879,     0.67576,     0.67525,     0.67397,     0.67229,\n",
       "            0.66865,     0.66731,     0.66667,     0.66667,     0.66667,     0.66667,     0.66647,     0.66582,     0.66517,     0.66452,     0.66387,     0.66364,     0.66347,     0.66227,     0.66106,     0.65982,     0.65856,     0.65758,     0.65758,     0.65758,     0.65758,     0.65455,     0.65455,\n",
       "            0.65356,     0.65173,     0.65152,     0.65152,     0.65152,     0.65152,     0.65152,     0.65152,     0.64896,     0.64848,     0.64848,     0.64848,     0.64848,     0.64848,     0.64848,     0.64848,     0.64848,     0.64848,     0.64848,     0.64848,     0.64848,     0.64848,     0.64848,\n",
       "            0.64848,     0.64848,     0.64848,     0.64848,     0.64848,     0.64848,     0.64848,     0.64848,     0.64848,     0.64848,     0.64818,     0.64759,       0.647,     0.64641,     0.64582,     0.64545,     0.64545,     0.64545,     0.64545,     0.64545,     0.64545,     0.64519,     0.64487,\n",
       "            0.64455,     0.64424,     0.64392,      0.6436,     0.64329,     0.64297,     0.64265,     0.64242,     0.64242,     0.63636,     0.63636,     0.63636,     0.63578,     0.63519,      0.6346,     0.63401,     0.63342,      0.6333,     0.63289,     0.63248,     0.63207,     0.63166,     0.63125,\n",
       "            0.63084,     0.63043,     0.63004,     0.62966,     0.62928,     0.62891,     0.62853,     0.62815,     0.62777,     0.62739,     0.62597,     0.62408,     0.62234,     0.61917,     0.61818,     0.61818,     0.61818,     0.61818,     0.61818,     0.61818,     0.61818,     0.61818,     0.61818,\n",
       "            0.61818,     0.61796,     0.61708,     0.61621,     0.61534,     0.61489,     0.61457,     0.61424,     0.61391,     0.61358,     0.61326,     0.61293,      0.6126,     0.61227,     0.61151,     0.61036,     0.60922,     0.60909,     0.60909,     0.60909,     0.60909,     0.60802,     0.60575,\n",
       "            0.60474,     0.60374,     0.60243,     0.60042,         0.6,         0.6,         0.6,         0.6,     0.59957,     0.59911,     0.59866,      0.5982,     0.59774,     0.59729,     0.59666,     0.59565,     0.59464,     0.59394,     0.59394,     0.59394,     0.59394,     0.59394,     0.59376,\n",
       "            0.59297,     0.59219,      0.5914,     0.59091,     0.59091,     0.59091,      0.5903,     0.58968,     0.58906,     0.58844,     0.58781,     0.58711,     0.58641,      0.5857,       0.585,     0.58444,     0.58393,     0.58342,      0.5829,     0.58239,     0.58187,     0.58145,     0.58104,\n",
       "            0.58063,     0.58021,      0.5798,     0.57939,     0.57898,      0.5785,     0.57797,     0.57744,      0.5769,     0.57637,     0.57584,     0.57147,     0.56964,     0.56907,     0.56849,     0.56791,     0.56733,     0.56675,     0.56564,     0.56364,     0.56364,     0.56364,     0.56364,\n",
       "            0.56285,     0.56164,     0.56043,     0.55917,     0.55791,     0.55758,     0.55758,     0.55729,     0.55556,     0.55225,     0.55009,     0.54841,     0.54582,     0.54433,     0.54302,     0.54217,     0.54171,     0.54124,     0.54078,     0.54032,     0.53985,     0.53939,     0.53939,\n",
       "            0.53939,     0.53875,     0.53733,     0.53636,     0.53328,     0.53253,     0.53177,     0.53101,     0.52727,     0.52727,     0.52727,     0.52727,     0.52727,     0.52727,     0.52727,     0.52677,     0.52566,     0.52456,     0.52424,     0.52375,     0.52296,     0.52216,     0.52137,\n",
       "            0.52068,     0.52001,     0.51934,     0.51867,     0.51451,     0.51069,     0.50864,     0.50799,     0.50735,     0.50671,     0.50607,     0.50606,     0.50606,     0.50606,     0.50606,     0.50203,     0.50081,     0.49688,     0.49607,     0.49526,     0.49446,     0.49394,     0.49394,\n",
       "            0.49394,     0.49394,     0.49394,     0.49265,     0.49061,     0.48808,     0.48485,     0.48451,     0.48328,     0.48204,     0.48073,     0.47941,     0.47576,     0.47273,     0.47273,     0.47273,     0.47273,     0.47273,     0.47259,     0.47117,     0.46975,     0.46702,     0.46253,\n",
       "            0.45746,     0.45455,     0.45455,     0.44985,     0.44848,     0.44848,     0.44848,      0.4459,     0.44426,     0.44289,     0.43877,     0.43728,      0.4342,     0.42648,     0.42499,     0.42342,     0.42176,     0.41957,     0.41818,     0.41639,     0.40573,     0.40129,     0.39949,\n",
       "            0.39762,     0.39517,     0.39266,     0.38944,     0.38788,     0.38788,     0.38788,      0.3872,      0.3865,      0.3858,      0.3851,     0.37568,     0.37436,     0.37303,     0.37273,     0.37137,     0.36949,     0.36834,     0.36719,      0.3662,     0.36532,     0.36445,      0.3635,\n",
       "            0.36138,     0.35656,     0.35405,      0.3516,     0.34875,     0.34769,     0.34683,     0.34596,     0.34172,     0.33585,     0.33134,     0.32858,     0.32256,     0.32005,     0.31871,     0.31474,     0.31356,     0.31238,     0.30774,      0.3058,     0.30465,      0.3035,     0.30095,\n",
       "            0.29494,     0.28971,     0.28529,     0.28327,     0.28141,     0.27901,     0.27536,     0.27291,     0.26275,     0.25455,     0.25215,     0.24371,     0.23829,     0.23685,     0.23012,     0.22847,     0.22547,     0.22133,     0.21619,     0.21338,     0.20915,     0.20775,      0.2064,\n",
       "            0.19966,     0.19819,     0.19492,     0.19082,     0.18961,      0.1884,     0.18322,     0.16968,     0.16709,     0.16018,       0.159,     0.15781,     0.15439,     0.14491,     0.14406,     0.14321,     0.14149,        0.13,     0.12783,     0.12348,     0.12137,     0.11683,     0.11296,\n",
       "            0.11053,     0.10688,     0.10152,    0.099001,    0.096203,    0.095078,    0.093952,    0.089785,    0.087177,    0.085768,    0.081963,     0.07887,    0.066062,    0.060271,    0.057061,    0.055308,    0.053326,     0.05102,    0.046521,    0.043322,    0.039472,     0.03442,    0.031605,\n",
       "           0.029173,    0.026795,    0.024589,    0.022537,     0.02079,    0.019568,    0.018346,    0.013649,    0.012051,    0.011521,    0.010991,     0.01046,   0.0099299,   0.0093995,    0.005985,    0.005728,   0.0054709,   0.0052139,   0.0049568,   0.0046997,   0.0044427,   0.0041856,   0.0039286,\n",
       "          0.0036715,   0.0034144,   0.0031574,           0,           0,           0,           0,           0,           0,           0,           0,           0,           0,           0,           0,           0,           0,           0,           0,           0,           0,           0,           0,\n",
       "                  0,           0,           0,           0,           0,           0,           0,           0,           0,           0,           0,           0,           0,           0,           0,           0,           0,           0,           0,           0,           0,           0,           0,\n",
       "                  0,           0,           0,           0,           0,           0,           0,           0,           0,           0,           0]]), 'Confidence', 'Recall']]\n",
       "fitness: 0.519630084731424\n",
       "keys: ['metrics/precision(B)', 'metrics/recall(B)', 'metrics/mAP50(B)', 'metrics/mAP50-95(B)']\n",
       "maps: array([    0.49209])\n",
       "names: {0: 'pothole'}\n",
       "plot: True\n",
       "results_dict: {'metrics/precision(B)': 0.7859173916505545, 'metrics/recall(B)': 0.7008473005220105, 'metrics/mAP50(B)': 0.7674585151874026, 'metrics/mAP50-95(B)': 0.49209359245853745, 'fitness': 0.519630084731424}\n",
       "save_dir: WindowsPath('runs/detect/train2')\n",
       "speed: {'preprocess': 4.044611651198308, 'inference': 136.75457194335476, 'loss': 0.0, 'postprocess': 1.0177658912830783}\n",
       "task: 'detect'"
      ]
     },
     "execution_count": 7,
     "metadata": {},
     "output_type": "execute_result"
    }
   ],
   "source": [
    "from ultralytics import YOLO\n",
    "\n",
    "model = YOLO(\"yolov8n.pt\")  # You can use .yaml to train from scratch, or .pt for pretrained\n",
    "model.train(\n",
    "    data=r\"C:\\Users\\harshitha\\Downloads\\pothole_dataset\\data.yaml\",\n",
    "    epochs=50,\n",
    "    imgsz=640\n",
    ")\n"
   ]
  },
  {
   "cell_type": "code",
   "execution_count": 10,
   "id": "87df5f43-47f4-4041-87c8-da0ca1b407ad",
   "metadata": {},
   "outputs": [
    {
     "name": "stdout",
     "output_type": "stream",
     "text": [
      "\n",
      "image 1/1 C:\\Users\\harshitha\\OneDrive\\Pictures\\Screenshots\\potholee.png: 416x640 7 potholes, 234.6ms\n",
      "Speed: 13.5ms preprocess, 234.6ms inference, 3.0ms postprocess per image at shape (1, 3, 416, 640)\n",
      "Results saved to \u001b[1mruns\\detect\\predict\u001b[0m\n"
     ]
    }
   ],
   "source": [
    "from ultralytics import YOLO\n",
    "\n",
    "model = YOLO(r\"C:\\Users\\harshitha\\runs\\detect\\train2\\weights\\best.pt\")\n",
    "results = model.predict(source=r\"C:\\Users\\harshitha\\OneDrive\\Pictures\\Screenshots\\potholee.png\", save=True, conf=0.25)\n"
   ]
  },
  {
   "cell_type": "code",
   "execution_count": null,
   "id": "437ba597-765a-4e17-9635-3b925467ad77",
   "metadata": {},
   "outputs": [],
   "source": []
  }
 ],
 "metadata": {
  "kernelspec": {
   "display_name": "Python 3 (ipykernel)",
   "language": "python",
   "name": "python3"
  },
  "language_info": {
   "codemirror_mode": {
    "name": "ipython",
    "version": 3
   },
   "file_extension": ".py",
   "mimetype": "text/x-python",
   "name": "python",
   "nbconvert_exporter": "python",
   "pygments_lexer": "ipython3",
   "version": "3.12.4"
  }
 },
 "nbformat": 4,
 "nbformat_minor": 5
}
